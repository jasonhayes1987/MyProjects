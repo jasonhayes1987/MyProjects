{
  "nbformat": 4,
  "nbformat_minor": 0,
  "metadata": {
    "colab": {
      "provenance": [],
      "authorship_tag": "ABX9TyNkj2zaOT6SIrrGtXddOBTM",
      "include_colab_link": true
    },
    "kernelspec": {
      "name": "python3",
      "display_name": "Python 3"
    },
    "language_info": {
      "name": "python"
    }
  },
  "cells": [
    {
      "cell_type": "markdown",
      "metadata": {
        "id": "view-in-github",
        "colab_type": "text"
      },
      "source": [
        "<a href=\"https://colab.research.google.com/github/jasonhayes1987/MyProjects/blob/master/California_Housing.ipynb\" target=\"_parent\"><img src=\"https://colab.research.google.com/assets/colab-badge.svg\" alt=\"Open In Colab\"/></a>"
      ]
    },
    {
      "cell_type": "markdown",
      "source": [
        "In this post we are going to step through the process of building a regression model using the California Housing dataset derived from the 1990 U.S. census. The goal is to predict the median home value of a district as accurately as possible given around 20,000 data points across 8 features. "
      ],
      "metadata": {
        "id": "NfV6L5r9pCMo"
      }
    },
    {
      "cell_type": "code",
      "execution_count": null,
      "metadata": {
        "id": "crMW0jqXoFPh"
      },
      "outputs": [],
      "source": [
        "import numpy as np\n",
        "import pandas as pd\n",
        "from scipy.stats import t\n",
        "import matplotlib.pyplot as plt\n",
        "import seaborn as sns\n",
        "%matplotlib inline\n",
        "from sklearn.datasets import fetch_california_housing"
      ]
    },
    {
      "cell_type": "code",
      "source": [
        "cal_data = fetch_california_housing(as_frame=True)"
      ],
      "metadata": {
        "id": "L9nzu_M05cHK"
      },
      "execution_count": null,
      "outputs": []
    },
    {
      "cell_type": "code",
      "source": [
        "print(cal_data.DESCR)"
      ],
      "metadata": {
        "colab": {
          "base_uri": "https://localhost:8080/"
        },
        "id": "pWVPCH5-8Dal",
        "outputId": "4649eb49-7f22-460b-b470-9b953321f8cc"
      },
      "execution_count": null,
      "outputs": [
        {
          "output_type": "stream",
          "name": "stdout",
          "text": [
            ".. _california_housing_dataset:\n",
            "\n",
            "California Housing dataset\n",
            "--------------------------\n",
            "\n",
            "**Data Set Characteristics:**\n",
            "\n",
            "    :Number of Instances: 20640\n",
            "\n",
            "    :Number of Attributes: 8 numeric, predictive attributes and the target\n",
            "\n",
            "    :Attribute Information:\n",
            "        - MedInc        median income in block group\n",
            "        - HouseAge      median house age in block group\n",
            "        - AveRooms      average number of rooms per household\n",
            "        - AveBedrms     average number of bedrooms per household\n",
            "        - Population    block group population\n",
            "        - AveOccup      average number of household members\n",
            "        - Latitude      block group latitude\n",
            "        - Longitude     block group longitude\n",
            "\n",
            "    :Missing Attribute Values: None\n",
            "\n",
            "This dataset was obtained from the StatLib repository.\n",
            "https://www.dcc.fc.up.pt/~ltorgo/Regression/cal_housing.html\n",
            "\n",
            "The target variable is the median house value for California districts,\n",
            "expressed in hundreds of thousands of dollars ($100,000).\n",
            "\n",
            "This dataset was derived from the 1990 U.S. census, using one row per census\n",
            "block group. A block group is the smallest geographical unit for which the U.S.\n",
            "Census Bureau publishes sample data (a block group typically has a population\n",
            "of 600 to 3,000 people).\n",
            "\n",
            "An household is a group of people residing within a home. Since the average\n",
            "number of rooms and bedrooms in this dataset are provided per household, these\n",
            "columns may take surpinsingly large values for block groups with few households\n",
            "and many empty houses, such as vacation resorts.\n",
            "\n",
            "It can be downloaded/loaded using the\n",
            ":func:`sklearn.datasets.fetch_california_housing` function.\n",
            "\n",
            ".. topic:: References\n",
            "\n",
            "    - Pace, R. Kelley and Ronald Barry, Sparse Spatial Autoregressions,\n",
            "      Statistics and Probability Letters, 33 (1997) 291-297\n",
            "\n"
          ]
        }
      ]
    },
    {
      "cell_type": "markdown",
      "source": [
        "In order to accurately predict a target, we have to identify the features that influence (change) it the most. That's the basis of a regression model, determining a dependent (target) variable using independent (feature) variables. If a feature influences the target, it means that the target value changes (increases/decreases) in some proportion to changes (increases/decreases)  in the feature value. This relationship can be viewed by plotting all the datapoints on a 2D (X-Y) plane, with X being the feature value and Y being the target value. Plotting the target (median house value) over each feature variable produces the following plots:"
      ],
      "metadata": {
        "id": "bzxcxZ1wJJ5Q"
      }
    },
    {
      "cell_type": "code",
      "source": [
        "sns.pairplot(cal_data['frame'], x_vars=cal_data['frame'].drop(columns='MedHouseVal').columns, y_vars='MedHouseVal')"
      ],
      "metadata": {
        "colab": {
          "base_uri": "https://localhost:8080/",
          "height": 234
        },
        "id": "aY9OZ73Ybof0",
        "outputId": "a45c9a15-792b-42d3-af66-4e12bb947d48"
      },
      "execution_count": null,
      "outputs": [
        {
          "output_type": "execute_result",
          "data": {
            "text/plain": [
              "<seaborn.axisgrid.PairGrid at 0x7f90524201f0>"
            ]
          },
          "metadata": {},
          "execution_count": 4
        },
        {
          "output_type": "display_data",
          "data": {
            "text/plain": [
              "<Figure size 1440x180 with 8 Axes>"
            ],
            "image/png": "[encoded data removed]"
          },
          "metadata": {
            "needs_background": "light"
          }
        }
      ]
    },
    {
      "cell_type": "markdown",
      "source": [
        "If two variables are perfectly related, that means that as one changes, the other will change in exact proportion every time, forming a straight line when the datapoints are plotted (perfectly linear). As datapoints spread (move away from) the line, it means that the relationship between the two is becoming less linear (one doesn't change in direct proportion to the other). This spread is called the covariance and can be measured to determine how related two variables are. The relationship is measured by finding the average of the distance of each datapoint of each variable from their own averages multiplied together.\n",
        "\n",
        "$Covariance(x,y)=\\frac{\\sum_{i=1}^{n}(x_i - \\bar{x})(y_i - \\bar{y})}{n-1}$\n",
        "\n",
        "*we subtract 1 from the number of samples because our data represents only a sample collected by the U.S.\n",
        "Census Bureau of the total population datapoints*\n",
        "\n",
        "Most of the plots above look to have high covariance, and no linear relationship with the target, with the exception of Median Income.\n",
        "\n",
        "The code below calculates the covariance between each feature variable and the target\n"
      ],
      "metadata": {
        "id": "S7lr1v0Acykd"
      }
    },
    {
      "cell_type": "code",
      "source": [
        "# calculate covariance using means of each variable\n",
        "def covariance(x, y):\n",
        "    return np.sum(((x - x.mean())*(y - y.mean()))/(len(x)-1))"
      ],
      "metadata": {
        "id": "AWFcxnkALiZ0"
      },
      "execution_count": null,
      "outputs": []
    },
    {
      "cell_type": "code",
      "source": [
        "covs = [covariance(cal_data['data'][f],cal_data['target']) for f in cal_data['data'].columns]\n",
        "metrics = pd.DataFrame(index=cal_data['data'].columns)\n",
        "metrics['covariance'] = covs\n",
        "metrics"
      ],
      "metadata": {
        "colab": {
          "base_uri": "https://localhost:8080/",
          "height": 300
        },
        "id": "gfnr2jBJUqvL",
        "outputId": "79d9252d-9f37-4ba3-c661-4393631db6f1"
      },
      "execution_count": null,
      "outputs": [
        {
          "output_type": "execute_result",
          "data": {
            "text/plain": [
              "            covariance\n",
              "MedInc        1.508475\n",
              "HouseAge      1.533988\n",
              "AveRooms      0.433826\n",
              "AveBedrms    -0.025539\n",
              "Population  -32.212487\n",
              "AveOccup     -0.284494\n",
              "Latitude     -0.355326\n",
              "Longitude    -0.106274"
            ],
            "text/html": [
              "\n",
              "  <div id=\"df-fafa37fe-8268-4bcb-b3c5-2c3659421ad7\">\n",
              "    <div class=\"colab-df-container\">\n",
              "      <div>\n",
              "<style scoped>\n",
              "    .dataframe tbody tr th:only-of-type {\n",
              "        vertical-align: middle;\n",
              "    }\n",
              "\n",
              "    .dataframe tbody tr th {\n",
              "        vertical-align: top;\n",
              "    }\n",
              "\n",
              "    .dataframe thead th {\n",
              "        text-align: right;\n",
              "    }\n",
              "</style>\n",
              "<table border=\"1\" class=\"dataframe\">\n",
              "  <thead>\n",
              "    <tr style=\"text-align: right;\">\n",
              "      <th></th>\n",
              "      <th>covariance</th>\n",
              "    </tr>\n",
              "  </thead>\n",
              "  <tbody>\n",
              "    <tr>\n",
              "      <th>MedInc</th>\n",
              "      <td>1.508475</td>\n",
              "    </tr>\n",
              "    <tr>\n",
              "      <th>HouseAge</th>\n",
              "      <td>1.533988</td>\n",
              "    </tr>\n",
              "    <tr>\n",
              "      <th>AveRooms</th>\n",
              "      <td>0.433826</td>\n",
              "    </tr>\n",
              "    <tr>\n",
              "      <th>AveBedrms</th>\n",
              "      <td>-0.025539</td>\n",
              "    </tr>\n",
              "    <tr>\n",
              "      <th>Population</th>\n",
              "      <td>-32.212487</td>\n",
              "    </tr>\n",
              "    <tr>\n",
              "      <th>AveOccup</th>\n",
              "      <td>-0.284494</td>\n",
              "    </tr>\n",
              "    <tr>\n",
              "      <th>Latitude</th>\n",
              "      <td>-0.355326</td>\n",
              "    </tr>\n",
              "    <tr>\n",
              "      <th>Longitude</th>\n",
              "      <td>-0.106274</td>\n",
              "    </tr>\n",
              "  </tbody>\n",
              "</table>\n",
              "</div>\n",
              "      <button class=\"colab-df-convert\" onclick=\"convertToInteractive('df-fafa37fe-8268-4bcb-b3c5-2c3659421ad7')\"\n",
              "              title=\"Convert this dataframe to an interactive table.\"\n",
              "              style=\"display:none;\">\n",
              "        \n",
              "  <svg xmlns=\"http://www.w3.org/2000/svg\" height=\"24px\"viewBox=\"0 0 24 24\"\n",
              "       width=\"24px\">\n",
              "    <path d=\"M0 0h24v24H0V0z\" fill=\"none\"/>\n",
              "    <path d=\"M18.56 5.44l.94 2.06.94-2.06 2.06-.94-2.06-.94-.94-2.06-.94 2.06-2.06.94zm-11 1L8.5 8.5l.94-2.06 2.06-.94-2.06-.94L8.5 2.5l-.94 2.06-2.06.94zm10 10l.94 2.06.94-2.06 2.06-.94-2.06-.94-.94-2.06-.94 2.06-2.06.94z\"/><path d=\"M17.41 7.96l-1.37-1.37c-.4-.4-.92-.59-1.43-.59-.52 0-1.04.2-1.43.59L10.3 9.45l-7.72 7.72c-.78.78-.78 2.05 0 2.83L4 21.41c.39.39.9.59 1.41.59.51 0 1.02-.2 1.41-.59l7.78-7.78 2.81-2.81c.8-.78.8-2.07 0-2.86zM5.41 20L4 18.59l7.72-7.72 1.47 1.35L5.41 20z\"/>\n",
              "  </svg>\n",
              "      </button>\n",
              "      \n",
              "  <style>\n",
              "    .colab-df-container {\n",
              "      display:flex;\n",
              "      flex-wrap:wrap;\n",
              "      gap: 12px;\n",
              "    }\n",
              "\n",
              "    .colab-df-convert {\n",
              "      background-color: #E8F0FE;\n",
              "      border: none;\n",
              "      border-radius: 50%;\n",
              "      cursor: pointer;\n",
              "      display: none;\n",
              "      fill: #1967D2;\n",
              "      height: 32px;\n",
              "      padding: 0 0 0 0;\n",
              "      width: 32px;\n",
              "    }\n",
              "\n",
              "    .colab-df-convert:hover {\n",
              "      background-color: #E2EBFA;\n",
              "      box-shadow: 0px 1px 2px rgba(60, 64, 67, 0.3), 0px 1px 3px 1px rgba(60, 64, 67, 0.15);\n",
              "      fill: #174EA6;\n",
              "    }\n",
              "\n",
              "    [theme=dark] .colab-df-convert {\n",
              "      background-color: #3B4455;\n",
              "      fill: #D2E3FC;\n",
              "    }\n",
              "\n",
              "    [theme=dark] .colab-df-convert:hover {\n",
              "      background-color: #434B5C;\n",
              "      box-shadow: 0px 1px 3px 1px rgba(0, 0, 0, 0.15);\n",
              "      filter: drop-shadow(0px 1px 2px rgba(0, 0, 0, 0.3));\n",
              "      fill: #FFFFFF;\n",
              "    }\n",
              "  </style>\n",
              "\n",
              "      <script>\n",
              "        const buttonEl =\n",
              "          document.querySelector('#df-fafa37fe-8268-4bcb-b3c5-2c3659421ad7 button.colab-df-convert');\n",
              "        buttonEl.style.display =\n",
              "          google.colab.kernel.accessAllowed ? 'block' : 'none';\n",
              "\n",
              "        async function convertToInteractive(key) {\n",
              "          const element = document.querySelector('#df-fafa37fe-8268-4bcb-b3c5-2c3659421ad7');\n",
              "          const dataTable =\n",
              "            await google.colab.kernel.invokeFunction('convertToInteractive',\n",
              "                                                     [key], {});\n",
              "          if (!dataTable) return;\n",
              "\n",
              "          const docLinkHtml = 'Like what you see? Visit the ' +\n",
              "            '<a target=\"_blank\" href=https://colab.research.google.com/notebooks/data_table.ipynb>data table notebook</a>'\n",
              "            + ' to learn more about interactive tables.';\n",
              "          element.innerHTML = '';\n",
              "          dataTable['output_type'] = 'display_data';\n",
              "          await google.colab.output.renderOutput(dataTable, element);\n",
              "          const docLink = document.createElement('div');\n",
              "          docLink.innerHTML = docLinkHtml;\n",
              "          element.appendChild(docLink);\n",
              "        }\n",
              "      </script>\n",
              "    </div>\n",
              "  </div>\n",
              "  "
            ]
          },
          "metadata": {},
          "execution_count": 12
        }
      ]
    },
    {
      "cell_type": "markdown",
      "source": [
        "*Discuss Correlation*\n",
        "\n",
        "Data with high covariance means there is little relation between the variables. But what value is considered high? The issue with covariance is that it is not scale dependent, meaning the covariance between two variables can't be compared to the covariance between two other variables because the values are at 2 different scales. In order to put the values on the same scale so they can be easily compared, the values have to be divided by the product of the standard deviations of each variable. In mathematics, this relationship metric between variables is called correlation, and the strength of the relationship between them is the correlation coefficient or Pearson Correlation.\n",
        "\n",
        "$\n",
        "\\begin{align}\n",
        "Correlation(x,y) &= \\frac{Covariance(x,y)}{\\sigma_x \\sigma_y} \\\\\n",
        "Standard\\hspace{1.6mm}Deviation=\\sigma &= \\frac{\\sum_{i=1}^{n}(x_i - \\bar{x})}{n-1}\n",
        "\\end{align}\n",
        "$\n",
        "\n",
        "The code below defines a correlation function that returns the correlation between input variables x and y by using the covariance and standard deviations of each. This data is then added to the the metrics dataframe and displayed for comparison.\n"
      ],
      "metadata": {
        "id": "Azl59V78invI"
      }
    },
    {
      "cell_type": "code",
      "source": [
        "def correlation(x,y):\n",
        "    cov = covariance(x,y)\n",
        "    st_dev_x = standard_deviation(x)\n",
        "    st_dev_y = standard_deviation(y)\n",
        "    corr = cov / (st_dev_x * st_dev_y)\n",
        "    return corr\n",
        "\n",
        "\n",
        "def standard_deviation(x):\n",
        "    return np.sqrt(sum(np.square(x-x.mean())) / (len(x)-1))"
      ],
      "metadata": {
        "id": "FP0fBLlpJsJd"
      },
      "execution_count": null,
      "outputs": []
    },
    {
      "cell_type": "code",
      "source": [
        "corrs = [correlation(cal_data['data'][f],cal_data['target']) for f in cal_data['data'].columns]\n",
        "metrics['correlation'] = corrs\n",
        "metrics"
      ],
      "metadata": {
        "colab": {
          "base_uri": "https://localhost:8080/",
          "height": 300
        },
        "id": "_Jj_AA4qL6jS",
        "outputId": "ac40c13a-a6c8-4c47-d06d-7afddd9fde24"
      },
      "execution_count": null,
      "outputs": [
        {
          "output_type": "execute_result",
          "data": {
            "text/plain": [
              "            covariance  correlation\n",
              "MedInc        1.508475     0.688075\n",
              "HouseAge      1.533988     0.105623\n",
              "AveRooms      0.433826     0.151948\n",
              "AveBedrms    -0.025539    -0.046701\n",
              "Population  -32.212487    -0.024650\n",
              "AveOccup     -0.284494    -0.023737\n",
              "Latitude     -0.355326    -0.144160\n",
              "Longitude    -0.106274    -0.045967"
            ],
            "text/html": [
              "\n",
              "  <div id=\"df-84299685-ee1a-4ba3-b1f2-345da201fc38\">\n",
              "    <div class=\"colab-df-container\">\n",
              "      <div>\n",
              "<style scoped>\n",
              "    .dataframe tbody tr th:only-of-type {\n",
              "        vertical-align: middle;\n",
              "    }\n",
              "\n",
              "    .dataframe tbody tr th {\n",
              "        vertical-align: top;\n",
              "    }\n",
              "\n",
              "    .dataframe thead th {\n",
              "        text-align: right;\n",
              "    }\n",
              "</style>\n",
              "<table border=\"1\" class=\"dataframe\">\n",
              "  <thead>\n",
              "    <tr style=\"text-align: right;\">\n",
              "      <th></th>\n",
              "      <th>covariance</th>\n",
              "      <th>correlation</th>\n",
              "    </tr>\n",
              "  </thead>\n",
              "  <tbody>\n",
              "    <tr>\n",
              "      <th>MedInc</th>\n",
              "      <td>1.508475</td>\n",
              "      <td>0.688075</td>\n",
              "    </tr>\n",
              "    <tr>\n",
              "      <th>HouseAge</th>\n",
              "      <td>1.533988</td>\n",
              "      <td>0.105623</td>\n",
              "    </tr>\n",
              "    <tr>\n",
              "      <th>AveRooms</th>\n",
              "      <td>0.433826</td>\n",
              "      <td>0.151948</td>\n",
              "    </tr>\n",
              "    <tr>\n",
              "      <th>AveBedrms</th>\n",
              "      <td>-0.025539</td>\n",
              "      <td>-0.046701</td>\n",
              "    </tr>\n",
              "    <tr>\n",
              "      <th>Population</th>\n",
              "      <td>-32.212487</td>\n",
              "      <td>-0.024650</td>\n",
              "    </tr>\n",
              "    <tr>\n",
              "      <th>AveOccup</th>\n",
              "      <td>-0.284494</td>\n",
              "      <td>-0.023737</td>\n",
              "    </tr>\n",
              "    <tr>\n",
              "      <th>Latitude</th>\n",
              "      <td>-0.355326</td>\n",
              "      <td>-0.144160</td>\n",
              "    </tr>\n",
              "    <tr>\n",
              "      <th>Longitude</th>\n",
              "      <td>-0.106274</td>\n",
              "      <td>-0.045967</td>\n",
              "    </tr>\n",
              "  </tbody>\n",
              "</table>\n",
              "</div>\n",
              "      <button class=\"colab-df-convert\" onclick=\"convertToInteractive('df-84299685-ee1a-4ba3-b1f2-345da201fc38')\"\n",
              "              title=\"Convert this dataframe to an interactive table.\"\n",
              "              style=\"display:none;\">\n",
              "        \n",
              "  <svg xmlns=\"http://www.w3.org/2000/svg\" height=\"24px\"viewBox=\"0 0 24 24\"\n",
              "       width=\"24px\">\n",
              "    <path d=\"M0 0h24v24H0V0z\" fill=\"none\"/>\n",
              "    <path d=\"M18.56 5.44l.94 2.06.94-2.06 2.06-.94-2.06-.94-.94-2.06-.94 2.06-2.06.94zm-11 1L8.5 8.5l.94-2.06 2.06-.94-2.06-.94L8.5 2.5l-.94 2.06-2.06.94zm10 10l.94 2.06.94-2.06 2.06-.94-2.06-.94-.94-2.06-.94 2.06-2.06.94z\"/><path d=\"M17.41 7.96l-1.37-1.37c-.4-.4-.92-.59-1.43-.59-.52 0-1.04.2-1.43.59L10.3 9.45l-7.72 7.72c-.78.78-.78 2.05 0 2.83L4 21.41c.39.39.9.59 1.41.59.51 0 1.02-.2 1.41-.59l7.78-7.78 2.81-2.81c.8-.78.8-2.07 0-2.86zM5.41 20L4 18.59l7.72-7.72 1.47 1.35L5.41 20z\"/>\n",
              "  </svg>\n",
              "      </button>\n",
              "      \n",
              "  <style>\n",
              "    .colab-df-container {\n",
              "      display:flex;\n",
              "      flex-wrap:wrap;\n",
              "      gap: 12px;\n",
              "    }\n",
              "\n",
              "    .colab-df-convert {\n",
              "      background-color: #E8F0FE;\n",
              "      border: none;\n",
              "      border-radius: 50%;\n",
              "      cursor: pointer;\n",
              "      display: none;\n",
              "      fill: #1967D2;\n",
              "      height: 32px;\n",
              "      padding: 0 0 0 0;\n",
              "      width: 32px;\n",
              "    }\n",
              "\n",
              "    .colab-df-convert:hover {\n",
              "      background-color: #E2EBFA;\n",
              "      box-shadow: 0px 1px 2px rgba(60, 64, 67, 0.3), 0px 1px 3px 1px rgba(60, 64, 67, 0.15);\n",
              "      fill: #174EA6;\n",
              "    }\n",
              "\n",
              "    [theme=dark] .colab-df-convert {\n",
              "      background-color: #3B4455;\n",
              "      fill: #D2E3FC;\n",
              "    }\n",
              "\n",
              "    [theme=dark] .colab-df-convert:hover {\n",
              "      background-color: #434B5C;\n",
              "      box-shadow: 0px 1px 3px 1px rgba(0, 0, 0, 0.15);\n",
              "      filter: drop-shadow(0px 1px 2px rgba(0, 0, 0, 0.3));\n",
              "      fill: #FFFFFF;\n",
              "    }\n",
              "  </style>\n",
              "\n",
              "      <script>\n",
              "        const buttonEl =\n",
              "          document.querySelector('#df-84299685-ee1a-4ba3-b1f2-345da201fc38 button.colab-df-convert');\n",
              "        buttonEl.style.display =\n",
              "          google.colab.kernel.accessAllowed ? 'block' : 'none';\n",
              "\n",
              "        async function convertToInteractive(key) {\n",
              "          const element = document.querySelector('#df-84299685-ee1a-4ba3-b1f2-345da201fc38');\n",
              "          const dataTable =\n",
              "            await google.colab.kernel.invokeFunction('convertToInteractive',\n",
              "                                                     [key], {});\n",
              "          if (!dataTable) return;\n",
              "\n",
              "          const docLinkHtml = 'Like what you see? Visit the ' +\n",
              "            '<a target=\"_blank\" href=https://colab.research.google.com/notebooks/data_table.ipynb>data table notebook</a>'\n",
              "            + ' to learn more about interactive tables.';\n",
              "          element.innerHTML = '';\n",
              "          dataTable['output_type'] = 'display_data';\n",
              "          await google.colab.output.renderOutput(dataTable, element);\n",
              "          const docLink = document.createElement('div');\n",
              "          docLink.innerHTML = docLinkHtml;\n",
              "          element.appendChild(docLink);\n",
              "        }\n",
              "      </script>\n",
              "    </div>\n",
              "  </div>\n",
              "  "
            ]
          },
          "metadata": {},
          "execution_count": 14
        }
      ]
    },
    {
      "cell_type": "markdown",
      "source": [
        "Notice how the covariance between the Population and Median House Value is around -32 (highest across all feature variables) but the correlation is around -0.025 (almost the lowest across all feature variables). This demonstrates the need to use correlation to compare the relationship of each feature variable to the target because the covariance isn't scale dependent (each value is on a different scale).\n",
        "\n",
        "The correlation between the median house value and median income is strongly positive(about 0.69) which is to be expected.  Typically, as your income increases, so does the value of the things you own. There is also some positive correlation between the age of the house and the number of rooms in the house with the median house value.  Again, that makes sense. The newer a house is, the higher in value it tends to be.  The more rooms a house has, the bigger it is and therefore the more valuable it tends to be. But how do we know this correlation isn't just by chance? It's possible that randomness is responsible for the correlation. Before moving forward, we need to determine that the correlation is not coincidental and therefore 'significant' and should be used in the regression model.\n",
        "\n"
      ],
      "metadata": {
        "id": "gvXDj7IsaORh"
      }
    },
    {
      "cell_type": "markdown",
      "source": [
        "*Statistical Significance*\n",
        "\n",
        "Statistical Significance is the method by which a metric is determined to not be coincidental. To be sure the correlation is not due to chance, the chance due to randomness would need to be very low. The chance due to randomness threshold commonly used is 5% (0.05), meaning we want to be 95% sure the correlation is significant (not by chance). In order to test if the correlation is significant, we test to see if it is not (this is called the null hypothesis). If the chance of no correlation falls below 5% (0.05), we can be 95% or more certain the correlation is not by chance. This is accomplished by mapping the correlation to a probability distribution (probability distribution = likelihood across all values that a variable could be equal to) to see if it falls outside 95% of the possibilities of occuring by chance (measured in standard deviations from no correlation). \n",
        "\n",
        "If the correlation is due to chance, that means there is no correlation between the two metrics and therefore the correlation coefficient is actually 0. What we are calculating is the probability that the actual correlation is 0 (null hypothesis)\n",
        "\n",
        "$\n",
        "\\begin{align}\n",
        "&H_{0}: r=0 \\hspace{1.6mm}(no \\hspace{1.6mm} correlation \\hspace{1.6mm} exists)\\hspace{1.6mm}(null\\hspace{1.6mm}hypothesis) \\\\\n",
        "&H_{1}: r \\neq 0 \\hspace{1.6mm}(correlation \\hspace{1.6mm} exists)\n",
        "\\end{align}\n",
        "$\n",
        "\n",
        "Since we are testing for the probability the correlation is 0, the spectrum of values both above and below 0 have to be taken into account. This is called a 'two tail' test (one tail is testing the likelihood of a value being only above or below a threshold, not both above AND below). Being 95% certain the correlation is not due to chance is the same as being 5% certain that it is. Since we need to account for the probabilities both above and below 0, we need to split the 5% into two 2.5% probability ranges and place them at the end of both sides of the probability distribution. The probability at the low range (below 0) covers the 0%-2.5% range (2.5 percentile) and the high range covers the 97.5%-100% range (1 - 97.5 percentile). Its much easier to understand when visualized, so below is a t-distribution with 95% of the probabilites shaded, leaving 2.5% unshaded on each side of the distribution. If the probability ends up outside of the shaded area, we can be 5% (or less) certain the correlation is due to chance, which means we can be 95% (or more) certain the correlation is not due to chance."
      ],
      "metadata": {
        "id": "yEZVBRD0fPEl"
      }
    },
    {
      "cell_type": "code",
      "source": [
        "# DONT INCLUDE IN ARTICLE\n",
        "from scipy.stats import t\n",
        "# create the t-distribution\n",
        "t_dist = t.rvs(df=cal_data['target'].size - len(cal_data['data'].columns)-1, size=cal_data['target'].size)\n",
        "# calculate points on distribution where probability is less than 2.5% and 97.5%\n",
        "# to find middle 95% of probabilities (critical values) using the percent point\n",
        "# function\n",
        "cv_h = t(cal_data['target'].size - len(cal_data['data'].columns)-1).ppf(0.975)\n",
        "cv_l = t(cal_data['target'].size - len(cal_data['data'].columns)-1).ppf(0.025)\n",
        "# create the distribution plot\n",
        "ax = sns.kdeplot(t_dist)\n",
        "# grab distribution line\n",
        "l1 = ax.lines[0]\n",
        "# grab datapoints between -cv and cv values of x\n",
        "xy = np.array([(x,y) for x,y in l1.get_xydata() if (x > cv_l) and (x < cv_h)])\n",
        "\n",
        "# shade the region\n",
        "ax.fill_between(xy[:,0], xy[:,1], alpha=0.3)\n",
        "plt.show()"
      ],
      "metadata": {
        "colab": {
          "base_uri": "https://localhost:8080/",
          "height": 265
        },
        "id": "KypIkycFzcFL",
        "outputId": "b7d785ab-2fc4-445e-93e9-67a7dfae2c1b"
      },
      "execution_count": null,
      "outputs": [
        {
          "output_type": "display_data",
          "data": {
            "text/plain": [
              "<Figure size 432x288 with 1 Axes>"
            ],
            "image/png": "[encoded data removed]"
          },
          "metadata": {
            "needs_background": "light"
          }
        }
      ]
    },
    {
      "cell_type": "markdown",
      "source": [
        "The values along the x-axis are called t-scores and as I mentioned above, represent estimated standard deviations from the null hypothesis (correlation = 0). \n",
        "The t-scores at the 2.5  and 97.5 percentile can be determined using the Percent Point Function. These t-scores are called the 'critical values'.\n",
        "\n",
        "*I'm not going to go into the math behind calculating these values. They are important values to know and understand, but how they are derived is less important and would take an entire article in itself.*\n",
        "\n",
        "The Percent Point Function (PPF) calculates a t-score from a percentile. Below, I use the PPF function for t-distributions from the scipy library to determine the critical values at the  2.5 and 97.5 percentile."
      ],
      "metadata": {
        "id": "-THw59sx0Gqy"
      }
    },
    {
      "cell_type": "code",
      "source": [
        "# calculate points on distribution where probability is less than 2.5% and 97.5%\n",
        "# to find middle 95% of probabilities (critical values) using the percent point\n",
        "# function\n",
        "cv_h = t(cal_data['target'].size - len(cal_data['data'].columns)-1).ppf(0.975)\n",
        "cv_l = t(cal_data['target'].size - len(cal_data['data'].columns)-1).ppf(0.025)\n",
        "\n",
        "# > critical values = -1.9600789769323244, 1.960078976932324"
      ],
      "metadata": {
        "id": "4CKTt9vg-0NT"
      },
      "execution_count": null,
      "outputs": []
    },
    {
      "cell_type": "markdown",
      "source": [
        "It makes sense that the critical values defining our lower and upper quantiles (2.5 and 97.5) would be opposites since the probability distribution is a symmetrical curve and the quantiles are symmetrically opposed. "
      ],
      "metadata": {
        "id": "aeSSgiARw04O"
      }
    },
    {
      "cell_type": "markdown",
      "source": [
        "To determine where our correlation values fall on this distribution, we have to calculate their t-scores.\n",
        "The t-score for correlation is calculated using the formula below: "
      ],
      "metadata": {
        "id": "2Mkof2b2aDHi"
      }
    },
    {
      "cell_type": "markdown",
      "source": [
        "$\\begin{align}\n",
        "    t&=\\frac{r}{\\sqrt{\\frac{1-r^2}{n-p}}} \\\\\n",
        "    r &= correlation \\\\\n",
        "    n &= num \\hspace{1.6mm} samples \\\\\n",
        "    p &= num \\hspace{1.6mm} features \\hspace{1.6mm}(including\\hspace{1.6mm}bias)\n",
        "\\end{align}$"
      ],
      "metadata": {
        "id": "RjnELK_r4H1A"
      }
    },
    {
      "cell_type": "markdown",
      "source": [
        "Let's run every correlation score between the feature variables and the target (median house value) to determine how sure we can be they are not due to chance."
      ],
      "metadata": {
        "id": "WTDNqUDgzpPF"
      }
    },
    {
      "cell_type": "code",
      "source": [
        "# map the correlations between each feature and the target to the distribution\n",
        "# by calculating the correlations t-score\n",
        "def t_score(r,n,p):\n",
        "    return r * np.sqrt((n-p) / ((1-r**2)+1e-5))\n",
        "\n",
        "t_scores = [t_score(r,cal_data['target'].size, len(cal_data['data'].columns)+1) for r in metrics['correlation'].values]\n",
        "metrics['t-scores'] = t_scores\n",
        "metrics"
      ],
      "metadata": {
        "colab": {
          "base_uri": "https://localhost:8080/",
          "height": 300
        },
        "id": "Hu7_5iR8y9NT",
        "outputId": "21261a75-86b4-451e-b46f-bb1d4e3d80e5"
      },
      "execution_count": null,
      "outputs": [
        {
          "output_type": "execute_result",
          "data": {
            "text/plain": [
              "            covariance  correlation    t-scores\n",
              "MedInc        1.508475     0.688075  136.198111\n",
              "HouseAge      1.533988     0.105623   15.256479\n",
              "AveRooms      0.433826     0.151948   22.081373\n",
              "AveBedrms    -0.025539    -0.046701   -6.715119\n",
              "Population  -32.212487    -0.024650   -3.541614\n",
              "AveOccup     -0.284494    -0.023737   -3.410466\n",
              "Latitude     -0.355326    -0.144160  -20.924923\n",
              "Longitude    -0.106274    -0.045967   -6.609366"
            ],
            "text/html": [
              "\n",
              "  <div id=\"df-c9ec0d98-e8cf-4427-a3a4-2575fdb9a0d7\">\n",
              "    <div class=\"colab-df-container\">\n",
              "      <div>\n",
              "<style scoped>\n",
              "    .dataframe tbody tr th:only-of-type {\n",
              "        vertical-align: middle;\n",
              "    }\n",
              "\n",
              "    .dataframe tbody tr th {\n",
              "        vertical-align: top;\n",
              "    }\n",
              "\n",
              "    .dataframe thead th {\n",
              "        text-align: right;\n",
              "    }\n",
              "</style>\n",
              "<table border=\"1\" class=\"dataframe\">\n",
              "  <thead>\n",
              "    <tr style=\"text-align: right;\">\n",
              "      <th></th>\n",
              "      <th>covariance</th>\n",
              "      <th>correlation</th>\n",
              "      <th>t-scores</th>\n",
              "    </tr>\n",
              "  </thead>\n",
              "  <tbody>\n",
              "    <tr>\n",
              "      <th>MedInc</th>\n",
              "      <td>1.508475</td>\n",
              "      <td>0.688075</td>\n",
              "      <td>136.198111</td>\n",
              "    </tr>\n",
              "    <tr>\n",
              "      <th>HouseAge</th>\n",
              "      <td>1.533988</td>\n",
              "      <td>0.105623</td>\n",
              "      <td>15.256479</td>\n",
              "    </tr>\n",
              "    <tr>\n",
              "      <th>AveRooms</th>\n",
              "      <td>0.433826</td>\n",
              "      <td>0.151948</td>\n",
              "      <td>22.081373</td>\n",
              "    </tr>\n",
              "    <tr>\n",
              "      <th>AveBedrms</th>\n",
              "      <td>-0.025539</td>\n",
              "      <td>-0.046701</td>\n",
              "      <td>-6.715119</td>\n",
              "    </tr>\n",
              "    <tr>\n",
              "      <th>Population</th>\n",
              "      <td>-32.212487</td>\n",
              "      <td>-0.024650</td>\n",
              "      <td>-3.541614</td>\n",
              "    </tr>\n",
              "    <tr>\n",
              "      <th>AveOccup</th>\n",
              "      <td>-0.284494</td>\n",
              "      <td>-0.023737</td>\n",
              "      <td>-3.410466</td>\n",
              "    </tr>\n",
              "    <tr>\n",
              "      <th>Latitude</th>\n",
              "      <td>-0.355326</td>\n",
              "      <td>-0.144160</td>\n",
              "      <td>-20.924923</td>\n",
              "    </tr>\n",
              "    <tr>\n",
              "      <th>Longitude</th>\n",
              "      <td>-0.106274</td>\n",
              "      <td>-0.045967</td>\n",
              "      <td>-6.609366</td>\n",
              "    </tr>\n",
              "  </tbody>\n",
              "</table>\n",
              "</div>\n",
              "      <button class=\"colab-df-convert\" onclick=\"convertToInteractive('df-c9ec0d98-e8cf-4427-a3a4-2575fdb9a0d7')\"\n",
              "              title=\"Convert this dataframe to an interactive table.\"\n",
              "              style=\"display:none;\">\n",
              "        \n",
              "  <svg xmlns=\"http://www.w3.org/2000/svg\" height=\"24px\"viewBox=\"0 0 24 24\"\n",
              "       width=\"24px\">\n",
              "    <path d=\"M0 0h24v24H0V0z\" fill=\"none\"/>\n",
              "    <path d=\"M18.56 5.44l.94 2.06.94-2.06 2.06-.94-2.06-.94-.94-2.06-.94 2.06-2.06.94zm-11 1L8.5 8.5l.94-2.06 2.06-.94-2.06-.94L8.5 2.5l-.94 2.06-2.06.94zm10 10l.94 2.06.94-2.06 2.06-.94-2.06-.94-.94-2.06-.94 2.06-2.06.94z\"/><path d=\"M17.41 7.96l-1.37-1.37c-.4-.4-.92-.59-1.43-.59-.52 0-1.04.2-1.43.59L10.3 9.45l-7.72 7.72c-.78.78-.78 2.05 0 2.83L4 21.41c.39.39.9.59 1.41.59.51 0 1.02-.2 1.41-.59l7.78-7.78 2.81-2.81c.8-.78.8-2.07 0-2.86zM5.41 20L4 18.59l7.72-7.72 1.47 1.35L5.41 20z\"/>\n",
              "  </svg>\n",
              "      </button>\n",
              "      \n",
              "  <style>\n",
              "    .colab-df-container {\n",
              "      display:flex;\n",
              "      flex-wrap:wrap;\n",
              "      gap: 12px;\n",
              "    }\n",
              "\n",
              "    .colab-df-convert {\n",
              "      background-color: #E8F0FE;\n",
              "      border: none;\n",
              "      border-radius: 50%;\n",
              "      cursor: pointer;\n",
              "      display: none;\n",
              "      fill: #1967D2;\n",
              "      height: 32px;\n",
              "      padding: 0 0 0 0;\n",
              "      width: 32px;\n",
              "    }\n",
              "\n",
              "    .colab-df-convert:hover {\n",
              "      background-color: #E2EBFA;\n",
              "      box-shadow: 0px 1px 2px rgba(60, 64, 67, 0.3), 0px 1px 3px 1px rgba(60, 64, 67, 0.15);\n",
              "      fill: #174EA6;\n",
              "    }\n",
              "\n",
              "    [theme=dark] .colab-df-convert {\n",
              "      background-color: #3B4455;\n",
              "      fill: #D2E3FC;\n",
              "    }\n",
              "\n",
              "    [theme=dark] .colab-df-convert:hover {\n",
              "      background-color: #434B5C;\n",
              "      box-shadow: 0px 1px 3px 1px rgba(0, 0, 0, 0.15);\n",
              "      filter: drop-shadow(0px 1px 2px rgba(0, 0, 0, 0.3));\n",
              "      fill: #FFFFFF;\n",
              "    }\n",
              "  </style>\n",
              "\n",
              "      <script>\n",
              "        const buttonEl =\n",
              "          document.querySelector('#df-c9ec0d98-e8cf-4427-a3a4-2575fdb9a0d7 button.colab-df-convert');\n",
              "        buttonEl.style.display =\n",
              "          google.colab.kernel.accessAllowed ? 'block' : 'none';\n",
              "\n",
              "        async function convertToInteractive(key) {\n",
              "          const element = document.querySelector('#df-c9ec0d98-e8cf-4427-a3a4-2575fdb9a0d7');\n",
              "          const dataTable =\n",
              "            await google.colab.kernel.invokeFunction('convertToInteractive',\n",
              "                                                     [key], {});\n",
              "          if (!dataTable) return;\n",
              "\n",
              "          const docLinkHtml = 'Like what you see? Visit the ' +\n",
              "            '<a target=\"_blank\" href=https://colab.research.google.com/notebooks/data_table.ipynb>data table notebook</a>'\n",
              "            + ' to learn more about interactive tables.';\n",
              "          element.innerHTML = '';\n",
              "          dataTable['output_type'] = 'display_data';\n",
              "          await google.colab.output.renderOutput(dataTable, element);\n",
              "          const docLink = document.createElement('div');\n",
              "          docLink.innerHTML = docLinkHtml;\n",
              "          element.appendChild(docLink);\n",
              "        }\n",
              "      </script>\n",
              "    </div>\n",
              "  </div>\n",
              "  "
            ]
          },
          "metadata": {},
          "execution_count": 17
        }
      ]
    },
    {
      "cell_type": "markdown",
      "source": [
        "All of these values are outside the critical value range, some by a large margin. We can use the 'Cumulative Distribution Function' (CDF) to determine the percentile of the t-score and from that derive its p-value. If the t-score is greater than 0, we have to subtract the percentile from 1 in order to compute the p-value correctly (97.5 percentile leaves 2.5% of the right tail from 1). Since we are running a two tail test (accounting for probability ranges on both sides of a distribution), the value needs to be multiplied by 2 to for an accurate p-value.\n",
        "\n",
        "Running the code below computes the p-value for each correlation."
      ],
      "metadata": {
        "id": "aSNaMHKe1Wgd"
      }
    },
    {
      "cell_type": "code",
      "source": [
        "def p_value(t_score,n,f):\n",
        "    if t_score > 0:\n",
        "        return 1.0 - t(n-f).cdf(t_score)\n",
        "    else:\n",
        "        return t(n-f).cdf(t_score)\n",
        "\n",
        "p_values = [p_value(t_score, cal_data['target'].size, len(cal_data['data'].columns)+1)*2 for t_score in t_scores]\n",
        "metrics['p_value'] = p_values\n",
        "metrics"
      ],
      "metadata": {
        "colab": {
          "base_uri": "https://localhost:8080/",
          "height": 300
        },
        "id": "4gJq-9zltz57",
        "outputId": "a559e5c3-8d08-460d-b1ba-f193c2d118d7"
      },
      "execution_count": null,
      "outputs": [
        {
          "output_type": "execute_result",
          "data": {
            "text/plain": [
              "            covariance  correlation    t-scores       p_value\n",
              "MedInc        1.508475     0.688075  136.198111  0.000000e+00\n",
              "HouseAge      1.533988     0.105623   15.256479  0.000000e+00\n",
              "AveRooms      0.433826     0.151948   22.081373  0.000000e+00\n",
              "AveBedrms    -0.025539    -0.046701   -6.715119  1.928018e-11\n",
              "Population  -32.212487    -0.024650   -3.541614  3.985639e-04\n",
              "AveOccup     -0.284494    -0.023737   -3.410466  6.497615e-04\n",
              "Latitude     -0.355326    -0.144160  -20.924923  3.171577e-96\n",
              "Longitude    -0.106274    -0.045967   -6.609366  3.954000e-11"
            ],
            "text/html": [
              "\n",
              "  <div id=\"df-1df37700-8de8-4157-ae9d-d678e8526125\">\n",
              "    <div class=\"colab-df-container\">\n",
              "      <div>\n",
              "<style scoped>\n",
              "    .dataframe tbody tr th:only-of-type {\n",
              "        vertical-align: middle;\n",
              "    }\n",
              "\n",
              "    .dataframe tbody tr th {\n",
              "        vertical-align: top;\n",
              "    }\n",
              "\n",
              "    .dataframe thead th {\n",
              "        text-align: right;\n",
              "    }\n",
              "</style>\n",
              "<table border=\"1\" class=\"dataframe\">\n",
              "  <thead>\n",
              "    <tr style=\"text-align: right;\">\n",
              "      <th></th>\n",
              "      <th>covariance</th>\n",
              "      <th>correlation</th>\n",
              "      <th>t-scores</th>\n",
              "      <th>p_value</th>\n",
              "    </tr>\n",
              "  </thead>\n",
              "  <tbody>\n",
              "    <tr>\n",
              "      <th>MedInc</th>\n",
              "      <td>1.508475</td>\n",
              "      <td>0.688075</td>\n",
              "      <td>136.198111</td>\n",
              "      <td>0.000000e+00</td>\n",
              "    </tr>\n",
              "    <tr>\n",
              "      <th>HouseAge</th>\n",
              "      <td>1.533988</td>\n",
              "      <td>0.105623</td>\n",
              "      <td>15.256479</td>\n",
              "      <td>0.000000e+00</td>\n",
              "    </tr>\n",
              "    <tr>\n",
              "      <th>AveRooms</th>\n",
              "      <td>0.433826</td>\n",
              "      <td>0.151948</td>\n",
              "      <td>22.081373</td>\n",
              "      <td>0.000000e+00</td>\n",
              "    </tr>\n",
              "    <tr>\n",
              "      <th>AveBedrms</th>\n",
              "      <td>-0.025539</td>\n",
              "      <td>-0.046701</td>\n",
              "      <td>-6.715119</td>\n",
              "      <td>1.928018e-11</td>\n",
              "    </tr>\n",
              "    <tr>\n",
              "      <th>Population</th>\n",
              "      <td>-32.212487</td>\n",
              "      <td>-0.024650</td>\n",
              "      <td>-3.541614</td>\n",
              "      <td>3.985639e-04</td>\n",
              "    </tr>\n",
              "    <tr>\n",
              "      <th>AveOccup</th>\n",
              "      <td>-0.284494</td>\n",
              "      <td>-0.023737</td>\n",
              "      <td>-3.410466</td>\n",
              "      <td>6.497615e-04</td>\n",
              "    </tr>\n",
              "    <tr>\n",
              "      <th>Latitude</th>\n",
              "      <td>-0.355326</td>\n",
              "      <td>-0.144160</td>\n",
              "      <td>-20.924923</td>\n",
              "      <td>3.171577e-96</td>\n",
              "    </tr>\n",
              "    <tr>\n",
              "      <th>Longitude</th>\n",
              "      <td>-0.106274</td>\n",
              "      <td>-0.045967</td>\n",
              "      <td>-6.609366</td>\n",
              "      <td>3.954000e-11</td>\n",
              "    </tr>\n",
              "  </tbody>\n",
              "</table>\n",
              "</div>\n",
              "      <button class=\"colab-df-convert\" onclick=\"convertToInteractive('df-1df37700-8de8-4157-ae9d-d678e8526125')\"\n",
              "              title=\"Convert this dataframe to an interactive table.\"\n",
              "              style=\"display:none;\">\n",
              "        \n",
              "  <svg xmlns=\"http://www.w3.org/2000/svg\" height=\"24px\"viewBox=\"0 0 24 24\"\n",
              "       width=\"24px\">\n",
              "    <path d=\"M0 0h24v24H0V0z\" fill=\"none\"/>\n",
              "    <path d=\"M18.56 5.44l.94 2.06.94-2.06 2.06-.94-2.06-.94-.94-2.06-.94 2.06-2.06.94zm-11 1L8.5 8.5l.94-2.06 2.06-.94-2.06-.94L8.5 2.5l-.94 2.06-2.06.94zm10 10l.94 2.06.94-2.06 2.06-.94-2.06-.94-.94-2.06-.94 2.06-2.06.94z\"/><path d=\"M17.41 7.96l-1.37-1.37c-.4-.4-.92-.59-1.43-.59-.52 0-1.04.2-1.43.59L10.3 9.45l-7.72 7.72c-.78.78-.78 2.05 0 2.83L4 21.41c.39.39.9.59 1.41.59.51 0 1.02-.2 1.41-.59l7.78-7.78 2.81-2.81c.8-.78.8-2.07 0-2.86zM5.41 20L4 18.59l7.72-7.72 1.47 1.35L5.41 20z\"/>\n",
              "  </svg>\n",
              "      </button>\n",
              "      \n",
              "  <style>\n",
              "    .colab-df-container {\n",
              "      display:flex;\n",
              "      flex-wrap:wrap;\n",
              "      gap: 12px;\n",
              "    }\n",
              "\n",
              "    .colab-df-convert {\n",
              "      background-color: #E8F0FE;\n",
              "      border: none;\n",
              "      border-radius: 50%;\n",
              "      cursor: pointer;\n",
              "      display: none;\n",
              "      fill: #1967D2;\n",
              "      height: 32px;\n",
              "      padding: 0 0 0 0;\n",
              "      width: 32px;\n",
              "    }\n",
              "\n",
              "    .colab-df-convert:hover {\n",
              "      background-color: #E2EBFA;\n",
              "      box-shadow: 0px 1px 2px rgba(60, 64, 67, 0.3), 0px 1px 3px 1px rgba(60, 64, 67, 0.15);\n",
              "      fill: #174EA6;\n",
              "    }\n",
              "\n",
              "    [theme=dark] .colab-df-convert {\n",
              "      background-color: #3B4455;\n",
              "      fill: #D2E3FC;\n",
              "    }\n",
              "\n",
              "    [theme=dark] .colab-df-convert:hover {\n",
              "      background-color: #434B5C;\n",
              "      box-shadow: 0px 1px 3px 1px rgba(0, 0, 0, 0.15);\n",
              "      filter: drop-shadow(0px 1px 2px rgba(0, 0, 0, 0.3));\n",
              "      fill: #FFFFFF;\n",
              "    }\n",
              "  </style>\n",
              "\n",
              "      <script>\n",
              "        const buttonEl =\n",
              "          document.querySelector('#df-1df37700-8de8-4157-ae9d-d678e8526125 button.colab-df-convert');\n",
              "        buttonEl.style.display =\n",
              "          google.colab.kernel.accessAllowed ? 'block' : 'none';\n",
              "\n",
              "        async function convertToInteractive(key) {\n",
              "          const element = document.querySelector('#df-1df37700-8de8-4157-ae9d-d678e8526125');\n",
              "          const dataTable =\n",
              "            await google.colab.kernel.invokeFunction('convertToInteractive',\n",
              "                                                     [key], {});\n",
              "          if (!dataTable) return;\n",
              "\n",
              "          const docLinkHtml = 'Like what you see? Visit the ' +\n",
              "            '<a target=\"_blank\" href=https://colab.research.google.com/notebooks/data_table.ipynb>data table notebook</a>'\n",
              "            + ' to learn more about interactive tables.';\n",
              "          element.innerHTML = '';\n",
              "          dataTable['output_type'] = 'display_data';\n",
              "          await google.colab.output.renderOutput(dataTable, element);\n",
              "          const docLink = document.createElement('div');\n",
              "          docLink.innerHTML = docLinkHtml;\n",
              "          element.appendChild(docLink);\n",
              "        }\n",
              "      </script>\n",
              "    </div>\n",
              "  </div>\n",
              "  "
            ]
          },
          "metadata": {},
          "execution_count": 18
        }
      ]
    },
    {
      "cell_type": "markdown",
      "source": [
        "The stronger the correlation between the feature and the target (positive or negative) the further from zero the t-score is and the more likely it will be outside the critical value range. The further outside the critical value range, the lower the p-value (probability correlation is equal to 0/due to chance). All of the correlations have a p-value far below 0.05 (5%), meaning the correlations are certainly not by chance."
      ],
      "metadata": {
        "id": "6H1VxSvI6sY5"
      }
    },
    {
      "cell_type": "markdown",
      "source": [
        "*Discuss collinearity*\n",
        "\n",
        "Now that we know all of our correlations are significant, we can trust these numbers and use them to determine which features we will use in the regression model.\n",
        "\n",
        "Above we discussed how the median income, house age, and average rooms seem to be strongly correlated with the median house value. The only other feature that seems to have a strong correlation with the target is the latitude location of the block group, having a negative correlation of around -0.14. You might be asking yourself why the latitude shows a much stronger (triple) correlation than the longitude. While it's possible the latitude has a much stronger influence on the median house value than the longitude, it's not probable. \n",
        "\n",
        "\n",
        "Remember, regression is a measure of the influence independent variables (features) have on the dependent variable (target), meaning if the value of one independent variable (feature) is changed and all other independent variables (features) remain the same, how does that impact the dependent variable (target). In order for a variable to be independent, it can't be influenced by another variable. If a variable is influenced by another, that means that as one changes, so does the other and therefore a measure of its influence on the target can't be correctly calculated. The regression model may still find coefficients that appear to predict the target well, but they will not represent the true influence on the target and will make the model very sensitive to changes (like adding or removing feature variables). Just as we used correlation to determine the influence the feature variables had on the target, so can it be used to determine the influence on each other. Using whats called a correlation matrix, we can determine if two feature variables are related to (influence) each other and therefore not independent of each other. The Pandas library makes this very easy with the corr() method. All we have to do is pass our dataframe of all feature variables and target variable (cal_data['frame']) to the corr() function and display the results using a heatmap (using the Seaborn library)."
      ],
      "metadata": {
        "id": "uZo1a9rtPf0M"
      }
    },
    {
      "cell_type": "code",
      "source": [
        "corr = cal_data['frame'].corr(method='pearson')\n",
        "sns.heatmap(data=corr.round(2), cmap='coolwarm', annot=True)"
      ],
      "metadata": {
        "colab": {
          "base_uri": "https://localhost:8080/",
          "height": 344
        },
        "id": "wT5G1r_Mvm_S",
        "outputId": "1251b2c3-5c18-4995-9b92-ba45d7fed1c5"
      },
      "execution_count": null,
      "outputs": [
        {
          "output_type": "execute_result",
          "data": {
            "text/plain": [
              "<matplotlib.axes._subplots.AxesSubplot at 0x7f97f7d4b4c0>"
            ]
          },
          "metadata": {},
          "execution_count": 11
        },
        {
          "output_type": "display_data",
          "data": {
            "text/plain": [
              "<Figure size 432x288 with 2 Axes>"
            ],
            "image/png": "[encoded data removed]"
          },
          "metadata": {
            "needs_background": "light"
          }
        }
      ]
    },
    {
      "cell_type": "markdown",
      "source": [
        "We can see the latitude and longitude variables are extremely negatively correlated (-.92), meaning as one increases, the other decreases at almost the same rate, making them dependent on one another. Average rooms and average bedrooms are also strongly positively correlated (.85), which makes sense. A larger house tends to have more bedrooms. This dependency (correlation) between feature variables is called collinearity and should ideally be attenuated as much as possible. It's important to understand that collinearity can't be eliminated completely from a regression model, as feature variables that are related (correlated) to the target will inevitably share some relation (correlation) to each other (for example, the age of homes in more affluent neighborhoods tends to be lower than those in lower income neighborhoods). \n",
        "\n",
        "Correlation between 2 feature variables is a good indication that collinearity exits, but what if a feature variable is correlated with the combination of 2 or more feature variables? This type of correlation is called multicollinearity and is unable to be identified by analyzing our correlation matrix above. There is, however, a metric we can use that can measure how much a variable is influenced by the other variables present in the regression called the Variance Inflation Factor (VIF). This is accomplished by running a regression with the feature variable set as the target (dependent variable) and using the remaining features as the independent variables. After completing the regression, we calculate the 'Coefficient of Determination' which measures how much of the variation of the target variable is predicted by the feature variables (how much of the target is explained by the features). From there, the VIF can be calculated and a determination can be made if multicollinearity exists."
      ],
      "metadata": {
        "id": "o7pMhwjef0aV"
      }
    },
    {
      "cell_type": "markdown",
      "source": [
        "Coefficient of Determination\n",
        "\n",
        "There are a couple ways of calculating the Coefficient of Determination. One way is by squaring the correlation, which is why the Coefficient of Determination is often reffered to as 'r-squared' (r is used as the variable representing correlation). We have already calculated the correlation between all variables above. Squaring the values and plotting a heatmap of the results will highlight feature pairs where variations closely match (they explain each other well). "
      ],
      "metadata": {
        "id": "4eM9k2YXXpJn"
      }
    },
    {
      "cell_type": "code",
      "source": [
        "coeff_det = corr**2\n",
        "sns.heatmap(data=coeff_det.round(2), cmap='coolwarm', annot=True)"
      ],
      "metadata": {
        "id": "8350_jiy2deC",
        "colab": {
          "base_uri": "https://localhost:8080/",
          "height": 344
        },
        "outputId": "6dcca377-670a-4aa8-df1a-cb17e90ad0a9"
      },
      "execution_count": null,
      "outputs": [
        {
          "output_type": "execute_result",
          "data": {
            "text/plain": [
              "<matplotlib.axes._subplots.AxesSubplot at 0x7f97f7736df0>"
            ]
          },
          "metadata": {},
          "execution_count": 12
        },
        {
          "output_type": "display_data",
          "data": {
            "text/plain": [
              "<Figure size 432x288 with 2 Axes>"
            ],
            "image/png": "[encoded data removed]"
          },
          "metadata": {
            "needs_background": "light"
          }
        }
      ]
    },
    {
      "cell_type": "markdown",
      "source": [
        "This doesn't really tell us anything new.  The correlation matrix highlighted the same data. If two features are correlated, the variability of one will closely match the other.\n",
        "\n",
        "This only addresses collinearity (between 2 variables). If we want to look for the possibility of multicollinearity between a single variable and the rest, we have to try to predict the feature variable in question by using only the other feature variables (and a bias term). Thats exactly what a regression does. After the regression has converged, we measure for similarity between the true data (Y) and predictions by calculating the r-squared and VIF values. If a feature variable can be predicted by the others, that means much of the variation of the data in the feature variable is already present in (explained by) the variation of the others, and its r-squared value will be close to 1. The VIF divides 1 by whats not explained by the other feature variables (1-r-squared), which creates high values for feature variables where multicollinearity is present. Values greater than 10 are considered to be significant and the threshold at which many statisticians and data-science practitioners will remove the variable from the regression. We'll walk through several tests and compare data between them to determine which regression model/s suffer from the least amount of collinearity (all feature variables are mostly independent) and predicts the target most accurately (accounts for/explains most of the variability and has a low MSE).\n",
        "\n",
        "The code below outlines the StandardScaler class we used in my previous post.  I added functions to run a regression and calculate the r-squared and VIF values, which are then used in the collinearity_test function that will take in a database of feature variables and return the r-squared and VIF values after a regression is run on each.\n",
        "\n",
        "*The r-squared function below uses a different method by which to calculate the coefficient of determination.*\n",
        "\n",
        "$r^2=1-\\frac{\\sum_{i=1}^{n}(y_i - \\hat{y}_i)^2}{\\sum_{i=1}^{n}(y_i - \\bar{y})^2}$"
      ],
      "metadata": {
        "id": "TwYUNRuwdVvh"
      }
    },
    {
      "cell_type": "code",
      "source": [
        "class StandardScaler():\n",
        "\n",
        "    def __init__(self):\n",
        "        self.mean = None\n",
        "        self.standard_deviation = None\n",
        "\n",
        "    def fit(self, data):\n",
        "        self.mean = np.mean(data, axis=0)\n",
        "        self.standard_deviation = np.sqrt(np.mean(np.square(data-self.mean), axis=0))\n",
        "\n",
        "    def transform(self, data):\n",
        "        return (data-self.mean)/self.standard_deviation"
      ],
      "metadata": {
        "id": "Yp_fBF0RMJ5d"
      },
      "execution_count": null,
      "outputs": []
    },
    {
      "cell_type": "code",
      "source": [
        "def Regressor(X, Y, iterations, learning_rate):\n",
        "    \n",
        "    # set Theta\n",
        "    Theta = np.random.randn(X.shape[1],1)\n",
        "\n",
        "    mses = []\n",
        "    for i in range(iterations):\n",
        "        Yh = X.dot(Theta)\n",
        "        residual = Y-Yh\n",
        "        mse = np.sum((np.square(residual)))/len(Y)\n",
        "        mses.append(mse)\n",
        "        Theta -= (learning_rate/len(Yh))*(-2*X.T.dot(residual))\n",
        "\n",
        "    return mses, Theta"
      ],
      "metadata": {
        "id": "Tm1X8tAyrQFB"
      },
      "execution_count": null,
      "outputs": []
    },
    {
      "cell_type": "code",
      "source": [
        "def r_squared(Y,predictions):\n",
        "    # calculate residual sum of squares\n",
        "    residuals = Y-predictions\n",
        "    SSR = np.sum(residuals**2)\n",
        "    # calculate total sum of squares\n",
        "    SST=np.sum(np.square(Y-Y.mean()))\n",
        "    # calculate coefficient of determination\n",
        "    r_sq = 1 - (SSR / SST)\n",
        "    \n",
        "    return r_sq"
      ],
      "metadata": {
        "id": "Zlk66f4wuwNm"
      },
      "execution_count": null,
      "outputs": []
    },
    {
      "cell_type": "code",
      "source": [
        "def VIF(r_sq):\n",
        "    return 1/(1-r_sq)"
      ],
      "metadata": {
        "id": "r8h3Vh9avW4C"
      },
      "execution_count": null,
      "outputs": []
    },
    {
      "cell_type": "code",
      "source": [
        "# run a regression on an all features to calculate coefficient of determination\n",
        "# and value inflation factor\n",
        "\n",
        "def collinearity_test(data, iterations, learning_rate):\n",
        "\n",
        "    # create arrays to store R2 and VIF of each feature\n",
        "    r2s = []\n",
        "    VIFs = []\n",
        "\n",
        "    for col in data.columns:\n",
        "        # set X and Y data\n",
        "        X = data.drop(columns=col).to_numpy()\n",
        "        Y = data[col].to_numpy().reshape((-1,1))\n",
        "        # scale X\n",
        "        scaler = StandardScaler()\n",
        "        scaler.fit(X)\n",
        "        X = scaler.transform(X)\n",
        "        # add column of ones to X\n",
        "        X = np.column_stack((np.ones((X.shape[0],1)),X))\n",
        "\n",
        "        _, Theta = Regressor(X, Y, iterations, learning_rate)\n",
        "        \n",
        "        # calculate r-squared\n",
        "        r_sq = r_squared(Y,X.dot(Theta))\n",
        "        r2s.append(r_sq)\n",
        "        # calculate VIF\n",
        "        vif = VIF(r_sq)\n",
        "        VIFs.append(vif)\n",
        "\n",
        "    return r2s, VIFs\n"
      ],
      "metadata": {
        "id": "lNjLH2IIfOMf"
      },
      "execution_count": null,
      "outputs": []
    },
    {
      "cell_type": "markdown",
      "source": [
        "Let's run the feature variables through the collinearity_test function and add the results to our metrics database"
      ],
      "metadata": {
        "id": "XE6dTFeAnqJr"
      }
    },
    {
      "cell_type": "code",
      "source": [
        "r2s, VIFs = collinearity_test(cal_data['data'], 1000, 0.01)\n",
        "\n",
        "# create dataframe to display VIF and R2 per feature\n",
        "df = pd.DataFrame(index=cal_data['data'].columns)\n",
        "# df['Feature']=cal_data['data'].columns\n",
        "metrics['R2']=r2s\n",
        "metrics['VIF'] = VIFs\n",
        "metrics"
      ],
      "metadata": {
        "colab": {
          "base_uri": "https://localhost:8080/",
          "height": 300
        },
        "id": "5HqmI5uuKFrG",
        "outputId": "7aaa54ec-ce59-4af9-99bf-9abc57ca2784"
      },
      "execution_count": null,
      "outputs": [
        {
          "output_type": "execute_result",
          "data": {
            "text/plain": [
              "            covariance  correlation    t-scores       p_value        R2  \\\n",
              "MedInc        1.508475     0.688075  136.198111  0.000000e+00  0.598405   \n",
              "HouseAge      1.533988     0.105623   15.256479  0.000000e+00  0.187724   \n",
              "AveRooms      0.433826     0.151948   22.081373  0.000000e+00  0.879211   \n",
              "AveBedrms    -0.025539    -0.046701   -6.715119  1.927999e-11  0.856607   \n",
              "Population  -32.212487    -0.024650   -3.541614  3.985636e-04  0.120663   \n",
              "AveOccup     -0.284494    -0.023737   -3.410466  6.497611e-04  0.007665   \n",
              "Latitude     -0.355326    -0.144160  -20.924923  3.168788e-96  0.891098   \n",
              "Longitude    -0.106274    -0.045967   -6.609366  3.953963e-11  0.888368   \n",
              "\n",
              "                 VIF  \n",
              "MedInc      2.490071  \n",
              "HouseAge    1.231109  \n",
              "AveRooms    8.278883  \n",
              "AveBedrms   6.973829  \n",
              "Population  1.137221  \n",
              "AveOccup    1.007724  \n",
              "Latitude    9.182531  \n",
              "Longitude   8.958036  "
            ],
            "text/html": [
              "\n",
              "  <div id=\"df-52a557e2-fcc8-47ca-9bdb-f6c655a4764a\">\n",
              "    <div class=\"colab-df-container\">\n",
              "      <div>\n",
              "<style scoped>\n",
              "    .dataframe tbody tr th:only-of-type {\n",
              "        vertical-align: middle;\n",
              "    }\n",
              "\n",
              "    .dataframe tbody tr th {\n",
              "        vertical-align: top;\n",
              "    }\n",
              "\n",
              "    .dataframe thead th {\n",
              "        text-align: right;\n",
              "    }\n",
              "</style>\n",
              "<table border=\"1\" class=\"dataframe\">\n",
              "  <thead>\n",
              "    <tr style=\"text-align: right;\">\n",
              "      <th></th>\n",
              "      <th>covariance</th>\n",
              "      <th>correlation</th>\n",
              "      <th>t-scores</th>\n",
              "      <th>p_value</th>\n",
              "      <th>R2</th>\n",
              "      <th>VIF</th>\n",
              "    </tr>\n",
              "  </thead>\n",
              "  <tbody>\n",
              "    <tr>\n",
              "      <th>MedInc</th>\n",
              "      <td>1.508475</td>\n",
              "      <td>0.688075</td>\n",
              "      <td>136.198111</td>\n",
              "      <td>0.000000e+00</td>\n",
              "      <td>0.598405</td>\n",
              "      <td>2.490071</td>\n",
              "    </tr>\n",
              "    <tr>\n",
              "      <th>HouseAge</th>\n",
              "      <td>1.533988</td>\n",
              "      <td>0.105623</td>\n",
              "      <td>15.256479</td>\n",
              "      <td>0.000000e+00</td>\n",
              "      <td>0.187724</td>\n",
              "      <td>1.231109</td>\n",
              "    </tr>\n",
              "    <tr>\n",
              "      <th>AveRooms</th>\n",
              "      <td>0.433826</td>\n",
              "      <td>0.151948</td>\n",
              "      <td>22.081373</td>\n",
              "      <td>0.000000e+00</td>\n",
              "      <td>0.879211</td>\n",
              "      <td>8.278883</td>\n",
              "    </tr>\n",
              "    <tr>\n",
              "      <th>AveBedrms</th>\n",
              "      <td>-0.025539</td>\n",
              "      <td>-0.046701</td>\n",
              "      <td>-6.715119</td>\n",
              "      <td>1.927999e-11</td>\n",
              "      <td>0.856607</td>\n",
              "      <td>6.973829</td>\n",
              "    </tr>\n",
              "    <tr>\n",
              "      <th>Population</th>\n",
              "      <td>-32.212487</td>\n",
              "      <td>-0.024650</td>\n",
              "      <td>-3.541614</td>\n",
              "      <td>3.985636e-04</td>\n",
              "      <td>0.120663</td>\n",
              "      <td>1.137221</td>\n",
              "    </tr>\n",
              "    <tr>\n",
              "      <th>AveOccup</th>\n",
              "      <td>-0.284494</td>\n",
              "      <td>-0.023737</td>\n",
              "      <td>-3.410466</td>\n",
              "      <td>6.497611e-04</td>\n",
              "      <td>0.007665</td>\n",
              "      <td>1.007724</td>\n",
              "    </tr>\n",
              "    <tr>\n",
              "      <th>Latitude</th>\n",
              "      <td>-0.355326</td>\n",
              "      <td>-0.144160</td>\n",
              "      <td>-20.924923</td>\n",
              "      <td>3.168788e-96</td>\n",
              "      <td>0.891098</td>\n",
              "      <td>9.182531</td>\n",
              "    </tr>\n",
              "    <tr>\n",
              "      <th>Longitude</th>\n",
              "      <td>-0.106274</td>\n",
              "      <td>-0.045967</td>\n",
              "      <td>-6.609366</td>\n",
              "      <td>3.953963e-11</td>\n",
              "      <td>0.888368</td>\n",
              "      <td>8.958036</td>\n",
              "    </tr>\n",
              "  </tbody>\n",
              "</table>\n",
              "</div>\n",
              "      <button class=\"colab-df-convert\" onclick=\"convertToInteractive('df-52a557e2-fcc8-47ca-9bdb-f6c655a4764a')\"\n",
              "              title=\"Convert this dataframe to an interactive table.\"\n",
              "              style=\"display:none;\">\n",
              "        \n",
              "  <svg xmlns=\"http://www.w3.org/2000/svg\" height=\"24px\"viewBox=\"0 0 24 24\"\n",
              "       width=\"24px\">\n",
              "    <path d=\"M0 0h24v24H0V0z\" fill=\"none\"/>\n",
              "    <path d=\"M18.56 5.44l.94 2.06.94-2.06 2.06-.94-2.06-.94-.94-2.06-.94 2.06-2.06.94zm-11 1L8.5 8.5l.94-2.06 2.06-.94-2.06-.94L8.5 2.5l-.94 2.06-2.06.94zm10 10l.94 2.06.94-2.06 2.06-.94-2.06-.94-.94-2.06-.94 2.06-2.06.94z\"/><path d=\"M17.41 7.96l-1.37-1.37c-.4-.4-.92-.59-1.43-.59-.52 0-1.04.2-1.43.59L10.3 9.45l-7.72 7.72c-.78.78-.78 2.05 0 2.83L4 21.41c.39.39.9.59 1.41.59.51 0 1.02-.2 1.41-.59l7.78-7.78 2.81-2.81c.8-.78.8-2.07 0-2.86zM5.41 20L4 18.59l7.72-7.72 1.47 1.35L5.41 20z\"/>\n",
              "  </svg>\n",
              "      </button>\n",
              "      \n",
              "  <style>\n",
              "    .colab-df-container {\n",
              "      display:flex;\n",
              "      flex-wrap:wrap;\n",
              "      gap: 12px;\n",
              "    }\n",
              "\n",
              "    .colab-df-convert {\n",
              "      background-color: #E8F0FE;\n",
              "      border: none;\n",
              "      border-radius: 50%;\n",
              "      cursor: pointer;\n",
              "      display: none;\n",
              "      fill: #1967D2;\n",
              "      height: 32px;\n",
              "      padding: 0 0 0 0;\n",
              "      width: 32px;\n",
              "    }\n",
              "\n",
              "    .colab-df-convert:hover {\n",
              "      background-color: #E2EBFA;\n",
              "      box-shadow: 0px 1px 2px rgba(60, 64, 67, 0.3), 0px 1px 3px 1px rgba(60, 64, 67, 0.15);\n",
              "      fill: #174EA6;\n",
              "    }\n",
              "\n",
              "    [theme=dark] .colab-df-convert {\n",
              "      background-color: #3B4455;\n",
              "      fill: #D2E3FC;\n",
              "    }\n",
              "\n",
              "    [theme=dark] .colab-df-convert:hover {\n",
              "      background-color: #434B5C;\n",
              "      box-shadow: 0px 1px 3px 1px rgba(0, 0, 0, 0.15);\n",
              "      filter: drop-shadow(0px 1px 2px rgba(0, 0, 0, 0.3));\n",
              "      fill: #FFFFFF;\n",
              "    }\n",
              "  </style>\n",
              "\n",
              "      <script>\n",
              "        const buttonEl =\n",
              "          document.querySelector('#df-52a557e2-fcc8-47ca-9bdb-f6c655a4764a button.colab-df-convert');\n",
              "        buttonEl.style.display =\n",
              "          google.colab.kernel.accessAllowed ? 'block' : 'none';\n",
              "\n",
              "        async function convertToInteractive(key) {\n",
              "          const element = document.querySelector('#df-52a557e2-fcc8-47ca-9bdb-f6c655a4764a');\n",
              "          const dataTable =\n",
              "            await google.colab.kernel.invokeFunction('convertToInteractive',\n",
              "                                                     [key], {});\n",
              "          if (!dataTable) return;\n",
              "\n",
              "          const docLinkHtml = 'Like what you see? Visit the ' +\n",
              "            '<a target=\"_blank\" href=https://colab.research.google.com/notebooks/data_table.ipynb>data table notebook</a>'\n",
              "            + ' to learn more about interactive tables.';\n",
              "          element.innerHTML = '';\n",
              "          dataTable['output_type'] = 'display_data';\n",
              "          await google.colab.output.renderOutput(dataTable, element);\n",
              "          const docLink = document.createElement('div');\n",
              "          docLink.innerHTML = docLinkHtml;\n",
              "          element.appendChild(docLink);\n",
              "        }\n",
              "      </script>\n",
              "    </div>\n",
              "  </div>\n",
              "  "
            ]
          },
          "metadata": {},
          "execution_count": 22
        }
      ]
    },
    {
      "cell_type": "markdown",
      "source": [
        "Median income is explained by almost 60% of the other variables, which is quite high. The VIF is low, so we'll keep it in there for now and see how it reacts to changes in the model.\n",
        "Average rooms and average bedrooms probably account for much of the explanation in each other, especially since they were highly correlated (0.85). The VIFs are also a little on the high side. Since average rooms has both a higher r-squared and VIF than average bedrooms, let's remove average rooms from the dataset and see if it reduces the r-squared and VIF values of average bedrooms.\n",
        "Latitude and longitute r-squared and VIF values are high as well, which confirms our suspision that they explain much of each other. Following the logic in the previous step, we'll remove latitude from the dataset and see how longitude reacts."
      ],
      "metadata": {
        "id": "VavDenAmoWTs"
      }
    },
    {
      "cell_type": "markdown",
      "source": [
        "We have to establish a baseline first in order to have something to compare our changes to. The baseline we will use is a model that uses all feature variables to predict the target. Before running the data through the model, the data has to be split into training and testing datasets. In order to get an accurate prediction metric, predictions should be made using new data (data the model hasn't seen before) for which the true target is known. This keeps the model from becomming fitted so well to the data that it is unable to accurately predict new data (known as overfitting).\n",
        "\n",
        "The method by which this is done is called Cross-Validation.  In a nutshell, Cross-Validation is performed by separating the data into 2 datasets, one used for training the model (training data), and one used for testing/validating the model (validation data).  Additionaly, we can split up the training data into a chosen number of equal parts called 'folds'. One fold is held as the test data, and the rest are fed to the regression as the training data. The regression iteration continues until each fold has been cycled as the test data. The MSE for the iteration is the average MSE over each test fold. This type of Cross-Validation is referred to as k-fold Cross-Validation and is considered the gold standard for alleviating overfitting and testing models. The k-fold Cross-Validation process is illustrated below for clarity.\n",
        "\n",
        "*Insert Image of k-fold Cross Validation*\n",
        "*http://karlrosaen.com/ml/learning-log/2016-06-20/k-fold-diagram.png*"
      ],
      "metadata": {
        "id": "IIAGQjlFxPro"
      }
    },
    {
      "cell_type": "code",
      "source": [
        "## code k-fold cross validation ##\n",
        "def cross_validate(X, Y, iterations, learning_rate):\n",
        "\n",
        "    #scale data\n",
        "    scaler = StandardScaler()\n",
        "    scaler.fit(X)\n",
        "    X = scaler.transform(X)\n",
        "\n",
        "    # add column of ones to X\n",
        "    X = np.column_stack((np.ones((X.shape[0],1)),X))\n",
        "\n",
        "    # initialize theta term\n",
        "    theta = np.random.randn(X.shape[1],1)\n",
        "\n",
        "    # split data into train and validation set\n",
        "    ## shuffle data\n",
        "    p = np.random.permutation(len(X))\n",
        "    X = X[p]\n",
        "    Y = Y[p]\n",
        "\n",
        "    ## split\n",
        "    test_percent = 10\n",
        "    test_size = len(X) // test_percent\n",
        "\n",
        "    x_train = X[:-test_size]\n",
        "    y_train = Y[:-test_size]\n",
        "    x_test = X[-test_size:]\n",
        "    y_test = Y[-test_size:]\n",
        "\n",
        "    # split train into k folds\n",
        "    folds = 10\n",
        "    fold_size = len(x_train) // folds\n",
        "\n",
        "    # initialize array to store mses\n",
        "    mses = []\n",
        "\n",
        "    for i in range(iterations):\n",
        "        # reset fold mses array to be empty\n",
        "        fold_mses = []\n",
        "\n",
        "        for k in range(folds):\n",
        "            # get range of indices to use as test fold\n",
        "            test_fold = np.arange(k*fold_size,(k+1)*fold_size)\n",
        "            # set train and test data according to current test fold\n",
        "            x_train_fold = np.delete(x_train, test_fold, axis=0)\n",
        "            y_train_fold = np.delete(y_train, test_fold, axis=0)\n",
        "            x_test_fold = np.take(x_train, test_fold, axis=0)\n",
        "            y_test_fold = np.take(y_train, test_fold, axis=0)\n",
        "\n",
        "            # run regression on training folds\n",
        "            Yh = x_train_fold.dot(theta)\n",
        "            residual = y_train_fold - Yh\n",
        "            train_mse = np.sum((np.square(residual)))/len(y_train_fold)\n",
        "            theta -= (learning_rate/len(Yh))*(-2*x_train_fold.T.dot(residual))\n",
        "\n",
        "            # test on test fold\n",
        "            Yh = x_test_fold.dot(theta)\n",
        "            residual = y_test_fold - Yh\n",
        "            test_mse = np.sum((np.square(residual)))/len(y_test_fold)\n",
        "\n",
        "            fold_mses.append([train_mse, test_mse])\n",
        "\n",
        "        mses.append(np.mean(fold_mses, axis=0))\n",
        "        # if i % 10 == 0:\n",
        "        #     print(f'Iteration {i}: {mses[-1]}')\n",
        "\n",
        "    # test validation data to determine true MSE\n",
        "    Yh = x_test.dot(theta)\n",
        "    residual = y_test - Yh\n",
        "    mse = np.sum((np.square(residual)))/len(y_test)\n",
        "    # print(f'Final MSE on validation data: {mse}')\n",
        "\n",
        "    return mse, mses, {'x_train':x_train, 'y_train':y_train, 'x_test':x_test, 'y_test':y_test, 'theta':theta}\n"
      ],
      "metadata": {
        "id": "RB_uDxU9GXjO"
      },
      "execution_count": null,
      "outputs": []
    },
    {
      "cell_type": "markdown",
      "source": [
        "Now we can establish a baseline metric by cross-validating a regression using every feature variable."
      ],
      "metadata": {
        "id": "hpSjNDhMkcA-"
      }
    },
    {
      "cell_type": "code",
      "source": [
        "mse, mses, data = cross_validate(cal_data['data'].to_numpy(), cal_data['target'].to_numpy().reshape((-1,1)), 1000, 0.01)"
      ],
      "metadata": {
        "id": "xyaeMyiFnhVv"
      },
      "execution_count": null,
      "outputs": []
    },
    {
      "cell_type": "code",
      "source": [
        "# print metrics\n",
        "print(f'mse={mse}')\n",
        "rs = r_squared(data['y_test'], data['x_test'].dot(data['theta']))\n",
        "print(f'r-squared={rs}')\n",
        "mses = np.array(mses)\n",
        "plt.plot(mses[:,0], label='Train')\n",
        "plt.plot(mses[:,1], label='Test')\n",
        "plt.scatter(x=1000, y=mse, label='Validation MSE')\n",
        "plt.title(\"MSE's\")\n",
        "plt.xlabel('Iteration')\n",
        "plt.ylabel('MSE')\n",
        "plt.legend()\n",
        "metrics['coefficients']=data['theta'][1:]\n",
        "metrics"
      ],
      "metadata": {
        "colab": {
          "base_uri": "https://localhost:8080/",
          "height": 613
        },
        "id": "nX7sA_S5oVnx",
        "outputId": "f682e767-9c4f-4a9c-b97a-354ebe3b4650"
      },
      "execution_count": null,
      "outputs": [
        {
          "output_type": "stream",
          "name": "stdout",
          "text": [
            "mse=0.5471310653792788\n",
            "r-squared=0.5838323213704486\n"
          ]
        },
        {
          "output_type": "execute_result",
          "data": {
            "text/plain": [
              "            covariance  correlation    t-scores       p_value        R2  \\\n",
              "MedInc        1.508475     0.688075  136.198111  0.000000e+00  0.598405   \n",
              "HouseAge      1.533988     0.105623   15.256479  0.000000e+00  0.187724   \n",
              "AveRooms      0.433826     0.151948   22.081373  0.000000e+00  0.879211   \n",
              "AveBedrms    -0.025539    -0.046701   -6.715119  1.927999e-11  0.856607   \n",
              "Population  -32.212487    -0.024650   -3.541614  3.985636e-04  0.120663   \n",
              "AveOccup     -0.284494    -0.023737   -3.410466  6.497611e-04  0.007665   \n",
              "Latitude     -0.355326    -0.144160  -20.924923  3.168788e-96  0.891098   \n",
              "Longitude    -0.106274    -0.045967   -6.609366  3.953963e-11  0.888368   \n",
              "\n",
              "                 VIF  coefficients  \n",
              "MedInc      2.490071      0.834469  \n",
              "HouseAge    1.231109      0.119183  \n",
              "AveRooms    8.278883     -0.273530  \n",
              "AveBedrms   6.973829      0.296039  \n",
              "Population  1.137221     -0.007482  \n",
              "AveOccup    1.007724     -0.037284  \n",
              "Latitude    9.182531     -0.887023  \n",
              "Longitude   8.958036     -0.859589  "
            ],
            "text/html": [
              "\n",
              "  <div id=\"df-79a2171a-81f8-471e-bf9e-ebcc752244ef\">\n",
              "    <div class=\"colab-df-container\">\n",
              "      <div>\n",
              "<style scoped>\n",
              "    .dataframe tbody tr th:only-of-type {\n",
              "        vertical-align: middle;\n",
              "    }\n",
              "\n",
              "    .dataframe tbody tr th {\n",
              "        vertical-align: top;\n",
              "    }\n",
              "\n",
              "    .dataframe thead th {\n",
              "        text-align: right;\n",
              "    }\n",
              "</style>\n",
              "<table border=\"1\" class=\"dataframe\">\n",
              "  <thead>\n",
              "    <tr style=\"text-align: right;\">\n",
              "      <th></th>\n",
              "      <th>covariance</th>\n",
              "      <th>correlation</th>\n",
              "      <th>t-scores</th>\n",
              "      <th>p_value</th>\n",
              "      <th>R2</th>\n",
              "      <th>VIF</th>\n",
              "      <th>coefficients</th>\n",
              "    </tr>\n",
              "  </thead>\n",
              "  <tbody>\n",
              "    <tr>\n",
              "      <th>MedInc</th>\n",
              "      <td>1.508475</td>\n",
              "      <td>0.688075</td>\n",
              "      <td>136.198111</td>\n",
              "      <td>0.000000e+00</td>\n",
              "      <td>0.598405</td>\n",
              "      <td>2.490071</td>\n",
              "      <td>0.834469</td>\n",
              "    </tr>\n",
              "    <tr>\n",
              "      <th>HouseAge</th>\n",
              "      <td>1.533988</td>\n",
              "      <td>0.105623</td>\n",
              "      <td>15.256479</td>\n",
              "      <td>0.000000e+00</td>\n",
              "      <td>0.187724</td>\n",
              "      <td>1.231109</td>\n",
              "      <td>0.119183</td>\n",
              "    </tr>\n",
              "    <tr>\n",
              "      <th>AveRooms</th>\n",
              "      <td>0.433826</td>\n",
              "      <td>0.151948</td>\n",
              "      <td>22.081373</td>\n",
              "      <td>0.000000e+00</td>\n",
              "      <td>0.879211</td>\n",
              "      <td>8.278883</td>\n",
              "      <td>-0.273530</td>\n",
              "    </tr>\n",
              "    <tr>\n",
              "      <th>AveBedrms</th>\n",
              "      <td>-0.025539</td>\n",
              "      <td>-0.046701</td>\n",
              "      <td>-6.715119</td>\n",
              "      <td>1.927999e-11</td>\n",
              "      <td>0.856607</td>\n",
              "      <td>6.973829</td>\n",
              "      <td>0.296039</td>\n",
              "    </tr>\n",
              "    <tr>\n",
              "      <th>Population</th>\n",
              "      <td>-32.212487</td>\n",
              "      <td>-0.024650</td>\n",
              "      <td>-3.541614</td>\n",
              "      <td>3.985636e-04</td>\n",
              "      <td>0.120663</td>\n",
              "      <td>1.137221</td>\n",
              "      <td>-0.007482</td>\n",
              "    </tr>\n",
              "    <tr>\n",
              "      <th>AveOccup</th>\n",
              "      <td>-0.284494</td>\n",
              "      <td>-0.023737</td>\n",
              "      <td>-3.410466</td>\n",
              "      <td>6.497611e-04</td>\n",
              "      <td>0.007665</td>\n",
              "      <td>1.007724</td>\n",
              "      <td>-0.037284</td>\n",
              "    </tr>\n",
              "    <tr>\n",
              "      <th>Latitude</th>\n",
              "      <td>-0.355326</td>\n",
              "      <td>-0.144160</td>\n",
              "      <td>-20.924923</td>\n",
              "      <td>3.168788e-96</td>\n",
              "      <td>0.891098</td>\n",
              "      <td>9.182531</td>\n",
              "      <td>-0.887023</td>\n",
              "    </tr>\n",
              "    <tr>\n",
              "      <th>Longitude</th>\n",
              "      <td>-0.106274</td>\n",
              "      <td>-0.045967</td>\n",
              "      <td>-6.609366</td>\n",
              "      <td>3.953963e-11</td>\n",
              "      <td>0.888368</td>\n",
              "      <td>8.958036</td>\n",
              "      <td>-0.859589</td>\n",
              "    </tr>\n",
              "  </tbody>\n",
              "</table>\n",
              "</div>\n",
              "      <button class=\"colab-df-convert\" onclick=\"convertToInteractive('df-79a2171a-81f8-471e-bf9e-ebcc752244ef')\"\n",
              "              title=\"Convert this dataframe to an interactive table.\"\n",
              "              style=\"display:none;\">\n",
              "        \n",
              "  <svg xmlns=\"http://www.w3.org/2000/svg\" height=\"24px\"viewBox=\"0 0 24 24\"\n",
              "       width=\"24px\">\n",
              "    <path d=\"M0 0h24v24H0V0z\" fill=\"none\"/>\n",
              "    <path d=\"M18.56 5.44l.94 2.06.94-2.06 2.06-.94-2.06-.94-.94-2.06-.94 2.06-2.06.94zm-11 1L8.5 8.5l.94-2.06 2.06-.94-2.06-.94L8.5 2.5l-.94 2.06-2.06.94zm10 10l.94 2.06.94-2.06 2.06-.94-2.06-.94-.94-2.06-.94 2.06-2.06.94z\"/><path d=\"M17.41 7.96l-1.37-1.37c-.4-.4-.92-.59-1.43-.59-.52 0-1.04.2-1.43.59L10.3 9.45l-7.72 7.72c-.78.78-.78 2.05 0 2.83L4 21.41c.39.39.9.59 1.41.59.51 0 1.02-.2 1.41-.59l7.78-7.78 2.81-2.81c.8-.78.8-2.07 0-2.86zM5.41 20L4 18.59l7.72-7.72 1.47 1.35L5.41 20z\"/>\n",
              "  </svg>\n",
              "      </button>\n",
              "      \n",
              "  <style>\n",
              "    .colab-df-container {\n",
              "      display:flex;\n",
              "      flex-wrap:wrap;\n",
              "      gap: 12px;\n",
              "    }\n",
              "\n",
              "    .colab-df-convert {\n",
              "      background-color: #E8F0FE;\n",
              "      border: none;\n",
              "      border-radius: 50%;\n",
              "      cursor: pointer;\n",
              "      display: none;\n",
              "      fill: #1967D2;\n",
              "      height: 32px;\n",
              "      padding: 0 0 0 0;\n",
              "      width: 32px;\n",
              "    }\n",
              "\n",
              "    .colab-df-convert:hover {\n",
              "      background-color: #E2EBFA;\n",
              "      box-shadow: 0px 1px 2px rgba(60, 64, 67, 0.3), 0px 1px 3px 1px rgba(60, 64, 67, 0.15);\n",
              "      fill: #174EA6;\n",
              "    }\n",
              "\n",
              "    [theme=dark] .colab-df-convert {\n",
              "      background-color: #3B4455;\n",
              "      fill: #D2E3FC;\n",
              "    }\n",
              "\n",
              "    [theme=dark] .colab-df-convert:hover {\n",
              "      background-color: #434B5C;\n",
              "      box-shadow: 0px 1px 3px 1px rgba(0, 0, 0, 0.15);\n",
              "      filter: drop-shadow(0px 1px 2px rgba(0, 0, 0, 0.3));\n",
              "      fill: #FFFFFF;\n",
              "    }\n",
              "  </style>\n",
              "\n",
              "      <script>\n",
              "        const buttonEl =\n",
              "          document.querySelector('#df-79a2171a-81f8-471e-bf9e-ebcc752244ef button.colab-df-convert');\n",
              "        buttonEl.style.display =\n",
              "          google.colab.kernel.accessAllowed ? 'block' : 'none';\n",
              "\n",
              "        async function convertToInteractive(key) {\n",
              "          const element = document.querySelector('#df-79a2171a-81f8-471e-bf9e-ebcc752244ef');\n",
              "          const dataTable =\n",
              "            await google.colab.kernel.invokeFunction('convertToInteractive',\n",
              "                                                     [key], {});\n",
              "          if (!dataTable) return;\n",
              "\n",
              "          const docLinkHtml = 'Like what you see? Visit the ' +\n",
              "            '<a target=\"_blank\" href=https://colab.research.google.com/notebooks/data_table.ipynb>data table notebook</a>'\n",
              "            + ' to learn more about interactive tables.';\n",
              "          element.innerHTML = '';\n",
              "          dataTable['output_type'] = 'display_data';\n",
              "          await google.colab.output.renderOutput(dataTable, element);\n",
              "          const docLink = document.createElement('div');\n",
              "          docLink.innerHTML = docLinkHtml;\n",
              "          element.appendChild(docLink);\n",
              "        }\n",
              "      </script>\n",
              "    </div>\n",
              "  </div>\n",
              "  "
            ]
          },
          "metadata": {},
          "execution_count": 33
        },
        {
          "output_type": "display_data",
          "data": {
            "text/plain": [
              "<Figure size 432x288 with 1 Axes>"
            ],
            "image/png": "[encoded data removed]"
          },
          "metadata": {
            "needs_background": "light"
          }
        }
      ]
    },
    {
      "cell_type": "markdown",
      "source": [
        "The mean squared error for both the train and test sets converge quickly. The convergence lines for both sets of data never separate, meaning the model isn't showing signs of overfitting to the training data. The true test of accuracy is on the validation data the model has yet to see. The MSE of the validation set lines up perfectly with the MSE's of both the train and test sets at the end of model training (iteration 1000), proving the model can predict accurately on data it has never seen before. The r-squared value shows the model is able to explain 58.3% of the variability of the median home value metric. Let's see how these metrics change and if we can improve any if we modify the regression model.\n",
        "\n",
        "Before continuing, I'll modify the code to encapsulate the entire process up until now in a function I'll name 'evaluate'. "
      ],
      "metadata": {
        "id": "xfxmLYNEyxw_"
      }
    },
    {
      "cell_type": "code",
      "source": [
        "## code a function that will take in X and Y data and return a dictionary of metrics\n",
        "def evaluate(X,Y, iterations, learning_rate):\n",
        "    \n",
        "    # calculate covariance between each feature and the target\n",
        "    covs = [covariance(X[f],Y) for f in X.columns]\n",
        "    # calculate correlation between each feature and the target\n",
        "    corrs = [correlation(X[f],Y) for f in X.columns]\n",
        "    # calculate t-scores of each feature\n",
        "    t_scores = [t_score(r,X.shape[0], X.shape[1]) for r in corrs]\n",
        "    # calculate p-value of each feature\n",
        "    p_values = [p_value(t_score, X.shape[0], X.shape[1])*2 for t_score in t_scores]\n",
        "    # run collinearity test on features to get r-squared and value inflation\n",
        "    r2s, VIFs = collinearity_test(X, iterations)\n",
        "    # run cross validation of regression model \n",
        "    val_mse, mses, data = cross_validate(X.to_numpy(), Y.to_numpy().reshape((-1,1)), iterations, learning_rate)\n",
        "    # calculate r-squared of the target\n",
        "    rs = r_squared(data['y_test'], data['x_test'].dot(data['theta']))\n",
        "    # build database of metrics\n",
        "    metrics = pd.DataFrame(index=X.columns)\n",
        "    metrics['covariance'] = covs\n",
        "    metrics['correlation'] = corrs\n",
        "    metrics['t-score'] = t_scores\n",
        "    metrics['p-value'] = p_values\n",
        "    metrics['r-squared'] = r2s\n",
        "    metrics['VIF'] = VIFs\n",
        "    metrics['coefficients']=data['theta'][1:]\n",
        "\n",
        "    # return dictionary of metrics\n",
        "    return {'validation MSE': val_mse,\n",
        "            'MSEs': mses,\n",
        "            'r-squared': rs,\n",
        "            'metrics': metrics,\n",
        "            'training data': data}\n"
      ],
      "metadata": {
        "id": "lJYALXnrJ3tK"
      },
      "execution_count": null,
      "outputs": []
    },
    {
      "cell_type": "markdown",
      "source": [
        "Now we'll run a regression on a dataset that doesn't include the average rooms and latitude feature variables to see how that effects the model"
      ],
      "metadata": {
        "id": "NaR2sCzKJ0Rq"
      }
    },
    {
      "cell_type": "code",
      "source": [
        "data = evaluate(cal_data['data'].drop(columns=['AveRooms','Latitude']), cal_data['target'], 1000, 0.01)"
      ],
      "metadata": {
        "id": "c5HsQtQGtwOr"
      },
      "execution_count": null,
      "outputs": []
    },
    {
      "cell_type": "code",
      "source": [
        "print(data['validation MSE'])\n",
        "print(data['r-squared'])"
      ],
      "metadata": {
        "colab": {
          "base_uri": "https://localhost:8080/"
        },
        "id": "cNwv7Eiwt0VR",
        "outputId": "8c8d06b0-5690-4cb6-c434-76e677ec7cf5"
      },
      "execution_count": null,
      "outputs": [
        {
          "output_type": "stream",
          "name": "stdout",
          "text": [
            "0.5928063257288153\n",
            "0.511122753967993\n"
          ]
        }
      ]
    },
    {
      "cell_type": "code",
      "source": [
        "data['metrics']"
      ],
      "metadata": {
        "id": "vaFguDKf1Yc5",
        "outputId": "2ec63fe8-1ed2-4c85-bdcd-e9170716bc14",
        "colab": {
          "base_uri": "https://localhost:8080/",
          "height": 237
        }
      },
      "execution_count": null,
      "outputs": [
        {
          "output_type": "execute_result",
          "data": {
            "text/plain": [
              "            covariance  correlation     t-score       p-value  r-squared  \\\n",
              "MedInc        1.508475     0.688075  136.208013  0.000000e+00   0.021943   \n",
              "HouseAge      1.533988     0.105623   15.257588  0.000000e+00   0.120130   \n",
              "AveBedrms    -0.025539    -0.046701   -6.715607  1.921568e-11   0.020482   \n",
              "Population  -32.212487    -0.024650   -3.541871  3.981750e-04   0.107159   \n",
              "AveOccup     -0.284494    -0.023737   -3.410714  6.491708e-04   0.006683   \n",
              "Longitude    -0.106274    -0.045967   -6.609846  3.941177e-11   0.017505   \n",
              "\n",
              "                 VIF  coefficients  \n",
              "MedInc      1.022435      0.821893  \n",
              "HouseAge    1.136532      0.232663  \n",
              "AveBedrms   1.020911      0.029981  \n",
              "Population  1.120021      0.045060  \n",
              "AveOccup    1.006728     -0.046913  \n",
              "Longitude   1.017817     -0.020790  "
            ],
            "text/html": [
              "\n",
              "  <div id=\"df-84d99a7b-2340-4d9d-acd3-23d1854772f8\">\n",
              "    <div class=\"colab-df-container\">\n",
              "      <div>\n",
              "<style scoped>\n",
              "    .dataframe tbody tr th:only-of-type {\n",
              "        vertical-align: middle;\n",
              "    }\n",
              "\n",
              "    .dataframe tbody tr th {\n",
              "        vertical-align: top;\n",
              "    }\n",
              "\n",
              "    .dataframe thead th {\n",
              "        text-align: right;\n",
              "    }\n",
              "</style>\n",
              "<table border=\"1\" class=\"dataframe\">\n",
              "  <thead>\n",
              "    <tr style=\"text-align: right;\">\n",
              "      <th></th>\n",
              "      <th>covariance</th>\n",
              "      <th>correlation</th>\n",
              "      <th>t-score</th>\n",
              "      <th>p-value</th>\n",
              "      <th>r-squared</th>\n",
              "      <th>VIF</th>\n",
              "      <th>coefficients</th>\n",
              "    </tr>\n",
              "  </thead>\n",
              "  <tbody>\n",
              "    <tr>\n",
              "      <th>MedInc</th>\n",
              "      <td>1.508475</td>\n",
              "      <td>0.688075</td>\n",
              "      <td>136.208013</td>\n",
              "      <td>0.000000e+00</td>\n",
              "      <td>0.021943</td>\n",
              "      <td>1.022435</td>\n",
              "      <td>0.821893</td>\n",
              "    </tr>\n",
              "    <tr>\n",
              "      <th>HouseAge</th>\n",
              "      <td>1.533988</td>\n",
              "      <td>0.105623</td>\n",
              "      <td>15.257588</td>\n",
              "      <td>0.000000e+00</td>\n",
              "      <td>0.120130</td>\n",
              "      <td>1.136532</td>\n",
              "      <td>0.232663</td>\n",
              "    </tr>\n",
              "    <tr>\n",
              "      <th>AveBedrms</th>\n",
              "      <td>-0.025539</td>\n",
              "      <td>-0.046701</td>\n",
              "      <td>-6.715607</td>\n",
              "      <td>1.921568e-11</td>\n",
              "      <td>0.020482</td>\n",
              "      <td>1.020911</td>\n",
              "      <td>0.029981</td>\n",
              "    </tr>\n",
              "    <tr>\n",
              "      <th>Population</th>\n",
              "      <td>-32.212487</td>\n",
              "      <td>-0.024650</td>\n",
              "      <td>-3.541871</td>\n",
              "      <td>3.981750e-04</td>\n",
              "      <td>0.107159</td>\n",
              "      <td>1.120021</td>\n",
              "      <td>0.045060</td>\n",
              "    </tr>\n",
              "    <tr>\n",
              "      <th>AveOccup</th>\n",
              "      <td>-0.284494</td>\n",
              "      <td>-0.023737</td>\n",
              "      <td>-3.410714</td>\n",
              "      <td>6.491708e-04</td>\n",
              "      <td>0.006683</td>\n",
              "      <td>1.006728</td>\n",
              "      <td>-0.046913</td>\n",
              "    </tr>\n",
              "    <tr>\n",
              "      <th>Longitude</th>\n",
              "      <td>-0.106274</td>\n",
              "      <td>-0.045967</td>\n",
              "      <td>-6.609846</td>\n",
              "      <td>3.941177e-11</td>\n",
              "      <td>0.017505</td>\n",
              "      <td>1.017817</td>\n",
              "      <td>-0.020790</td>\n",
              "    </tr>\n",
              "  </tbody>\n",
              "</table>\n",
              "</div>\n",
              "      <button class=\"colab-df-convert\" onclick=\"convertToInteractive('df-84d99a7b-2340-4d9d-acd3-23d1854772f8')\"\n",
              "              title=\"Convert this dataframe to an interactive table.\"\n",
              "              style=\"display:none;\">\n",
              "        \n",
              "  <svg xmlns=\"http://www.w3.org/2000/svg\" height=\"24px\"viewBox=\"0 0 24 24\"\n",
              "       width=\"24px\">\n",
              "    <path d=\"M0 0h24v24H0V0z\" fill=\"none\"/>\n",
              "    <path d=\"M18.56 5.44l.94 2.06.94-2.06 2.06-.94-2.06-.94-.94-2.06-.94 2.06-2.06.94zm-11 1L8.5 8.5l.94-2.06 2.06-.94-2.06-.94L8.5 2.5l-.94 2.06-2.06.94zm10 10l.94 2.06.94-2.06 2.06-.94-2.06-.94-.94-2.06-.94 2.06-2.06.94z\"/><path d=\"M17.41 7.96l-1.37-1.37c-.4-.4-.92-.59-1.43-.59-.52 0-1.04.2-1.43.59L10.3 9.45l-7.72 7.72c-.78.78-.78 2.05 0 2.83L4 21.41c.39.39.9.59 1.41.59.51 0 1.02-.2 1.41-.59l7.78-7.78 2.81-2.81c.8-.78.8-2.07 0-2.86zM5.41 20L4 18.59l7.72-7.72 1.47 1.35L5.41 20z\"/>\n",
              "  </svg>\n",
              "      </button>\n",
              "      \n",
              "  <style>\n",
              "    .colab-df-container {\n",
              "      display:flex;\n",
              "      flex-wrap:wrap;\n",
              "      gap: 12px;\n",
              "    }\n",
              "\n",
              "    .colab-df-convert {\n",
              "      background-color: #E8F0FE;\n",
              "      border: none;\n",
              "      border-radius: 50%;\n",
              "      cursor: pointer;\n",
              "      display: none;\n",
              "      fill: #1967D2;\n",
              "      height: 32px;\n",
              "      padding: 0 0 0 0;\n",
              "      width: 32px;\n",
              "    }\n",
              "\n",
              "    .colab-df-convert:hover {\n",
              "      background-color: #E2EBFA;\n",
              "      box-shadow: 0px 1px 2px rgba(60, 64, 67, 0.3), 0px 1px 3px 1px rgba(60, 64, 67, 0.15);\n",
              "      fill: #174EA6;\n",
              "    }\n",
              "\n",
              "    [theme=dark] .colab-df-convert {\n",
              "      background-color: #3B4455;\n",
              "      fill: #D2E3FC;\n",
              "    }\n",
              "\n",
              "    [theme=dark] .colab-df-convert:hover {\n",
              "      background-color: #434B5C;\n",
              "      box-shadow: 0px 1px 3px 1px rgba(0, 0, 0, 0.15);\n",
              "      filter: drop-shadow(0px 1px 2px rgba(0, 0, 0, 0.3));\n",
              "      fill: #FFFFFF;\n",
              "    }\n",
              "  </style>\n",
              "\n",
              "      <script>\n",
              "        const buttonEl =\n",
              "          document.querySelector('#df-84d99a7b-2340-4d9d-acd3-23d1854772f8 button.colab-df-convert');\n",
              "        buttonEl.style.display =\n",
              "          google.colab.kernel.accessAllowed ? 'block' : 'none';\n",
              "\n",
              "        async function convertToInteractive(key) {\n",
              "          const element = document.querySelector('#df-84d99a7b-2340-4d9d-acd3-23d1854772f8');\n",
              "          const dataTable =\n",
              "            await google.colab.kernel.invokeFunction('convertToInteractive',\n",
              "                                                     [key], {});\n",
              "          if (!dataTable) return;\n",
              "\n",
              "          const docLinkHtml = 'Like what you see? Visit the ' +\n",
              "            '<a target=\"_blank\" href=https://colab.research.google.com/notebooks/data_table.ipynb>data table notebook</a>'\n",
              "            + ' to learn more about interactive tables.';\n",
              "          element.innerHTML = '';\n",
              "          dataTable['output_type'] = 'display_data';\n",
              "          await google.colab.output.renderOutput(dataTable, element);\n",
              "          const docLink = document.createElement('div');\n",
              "          docLink.innerHTML = docLinkHtml;\n",
              "          element.appendChild(docLink);\n",
              "        }\n",
              "      </script>\n",
              "    </div>\n",
              "  </div>\n",
              "  "
            ]
          },
          "metadata": {},
          "execution_count": 36
        }
      ]
    },
    {
      "cell_type": "markdown",
      "source": [
        "The MSE increased a small amount and there's essentially no collinearity occuring but at the cost of about 7% of the targets explainabiliity (r-squared). The r-squared value of Median Income dropped to 2% from 60%, meaning much of its variability was contained in the Average Rooms feature. This makes sense. Neighborhoods with higher median incomes tend to have bigger houses, and bigger houses have more rooms.\n",
        "How about swapping out average bedrooms for average rooms.  Perhaps it contains some variability in the target that was lost when removing it."
      ],
      "metadata": {
        "id": "TPjYcWvG1w6W"
      }
    },
    {
      "cell_type": "code",
      "source": [
        "data = evaluate(cal_data['data'].drop(columns=['AveBedrms', 'Latitude']), cal_data['target'], 1000, 0.01)"
      ],
      "metadata": {
        "id": "vRQkTcKr2wQv"
      },
      "execution_count": null,
      "outputs": []
    },
    {
      "cell_type": "code",
      "source": [
        "print(data['validation MSE'])\n",
        "print(data['r-squared'])"
      ],
      "metadata": {
        "colab": {
          "base_uri": "https://localhost:8080/"
        },
        "id": "sG2TFAMpe6yR",
        "outputId": "f504f690-ba8b-47f8-b14f-e6c116d7f1c3"
      },
      "execution_count": null,
      "outputs": [
        {
          "output_type": "stream",
          "name": "stdout",
          "text": [
            "0.6348141560950129\n",
            "0.5205750454284308\n"
          ]
        }
      ]
    },
    {
      "cell_type": "code",
      "source": [
        "data['metrics']"
      ],
      "metadata": {
        "colab": {
          "base_uri": "https://localhost:8080/",
          "height": 237
        },
        "id": "PQugLvzge2rY",
        "outputId": "4e1dbcc9-0a08-4b69-f7cd-095242a53d57"
      },
      "execution_count": null,
      "outputs": [
        {
          "output_type": "execute_result",
          "data": {
            "text/plain": [
              "            covariance  correlation     t-score       p-value  r-squared  \\\n",
              "MedInc        1.508475     0.688075  136.208013  0.000000e+00   0.112423   \n",
              "HouseAge      1.533988     0.105623   15.257588  0.000000e+00   0.130632   \n",
              "AveRooms      0.433826     0.151948   22.082978  0.000000e+00   0.133714   \n",
              "Population  -32.212487    -0.024650   -3.541871  3.981750e-04   0.111276   \n",
              "AveOccup     -0.284494    -0.023737   -3.410714  6.491708e-04   0.006669   \n",
              "Longitude    -0.106274    -0.045967   -6.609846  3.941177e-11   0.018277   \n",
              "\n",
              "                 VIF  coefficients  \n",
              "MedInc      1.126662      0.839058  \n",
              "HouseAge    1.150261      0.221889  \n",
              "AveRooms    1.154354     -0.063160  \n",
              "Population  1.125209      0.032400  \n",
              "AveOccup    1.006713     -0.046611  \n",
              "Longitude   1.018617     -0.021463  "
            ],
            "text/html": [
              "\n",
              "  <div id=\"df-bd6c378b-2d39-4ada-a009-3a4185d63594\">\n",
              "    <div class=\"colab-df-container\">\n",
              "      <div>\n",
              "<style scoped>\n",
              "    .dataframe tbody tr th:only-of-type {\n",
              "        vertical-align: middle;\n",
              "    }\n",
              "\n",
              "    .dataframe tbody tr th {\n",
              "        vertical-align: top;\n",
              "    }\n",
              "\n",
              "    .dataframe thead th {\n",
              "        text-align: right;\n",
              "    }\n",
              "</style>\n",
              "<table border=\"1\" class=\"dataframe\">\n",
              "  <thead>\n",
              "    <tr style=\"text-align: right;\">\n",
              "      <th></th>\n",
              "      <th>covariance</th>\n",
              "      <th>correlation</th>\n",
              "      <th>t-score</th>\n",
              "      <th>p-value</th>\n",
              "      <th>r-squared</th>\n",
              "      <th>VIF</th>\n",
              "      <th>coefficients</th>\n",
              "    </tr>\n",
              "  </thead>\n",
              "  <tbody>\n",
              "    <tr>\n",
              "      <th>MedInc</th>\n",
              "      <td>1.508475</td>\n",
              "      <td>0.688075</td>\n",
              "      <td>136.208013</td>\n",
              "      <td>0.000000e+00</td>\n",
              "      <td>0.112423</td>\n",
              "      <td>1.126662</td>\n",
              "      <td>0.839058</td>\n",
              "    </tr>\n",
              "    <tr>\n",
              "      <th>HouseAge</th>\n",
              "      <td>1.533988</td>\n",
              "      <td>0.105623</td>\n",
              "      <td>15.257588</td>\n",
              "      <td>0.000000e+00</td>\n",
              "      <td>0.130632</td>\n",
              "      <td>1.150261</td>\n",
              "      <td>0.221889</td>\n",
              "    </tr>\n",
              "    <tr>\n",
              "      <th>AveRooms</th>\n",
              "      <td>0.433826</td>\n",
              "      <td>0.151948</td>\n",
              "      <td>22.082978</td>\n",
              "      <td>0.000000e+00</td>\n",
              "      <td>0.133714</td>\n",
              "      <td>1.154354</td>\n",
              "      <td>-0.063160</td>\n",
              "    </tr>\n",
              "    <tr>\n",
              "      <th>Population</th>\n",
              "      <td>-32.212487</td>\n",
              "      <td>-0.024650</td>\n",
              "      <td>-3.541871</td>\n",
              "      <td>3.981750e-04</td>\n",
              "      <td>0.111276</td>\n",
              "      <td>1.125209</td>\n",
              "      <td>0.032400</td>\n",
              "    </tr>\n",
              "    <tr>\n",
              "      <th>AveOccup</th>\n",
              "      <td>-0.284494</td>\n",
              "      <td>-0.023737</td>\n",
              "      <td>-3.410714</td>\n",
              "      <td>6.491708e-04</td>\n",
              "      <td>0.006669</td>\n",
              "      <td>1.006713</td>\n",
              "      <td>-0.046611</td>\n",
              "    </tr>\n",
              "    <tr>\n",
              "      <th>Longitude</th>\n",
              "      <td>-0.106274</td>\n",
              "      <td>-0.045967</td>\n",
              "      <td>-6.609846</td>\n",
              "      <td>3.941177e-11</td>\n",
              "      <td>0.018277</td>\n",
              "      <td>1.018617</td>\n",
              "      <td>-0.021463</td>\n",
              "    </tr>\n",
              "  </tbody>\n",
              "</table>\n",
              "</div>\n",
              "      <button class=\"colab-df-convert\" onclick=\"convertToInteractive('df-bd6c378b-2d39-4ada-a009-3a4185d63594')\"\n",
              "              title=\"Convert this dataframe to an interactive table.\"\n",
              "              style=\"display:none;\">\n",
              "        \n",
              "  <svg xmlns=\"http://www.w3.org/2000/svg\" height=\"24px\"viewBox=\"0 0 24 24\"\n",
              "       width=\"24px\">\n",
              "    <path d=\"M0 0h24v24H0V0z\" fill=\"none\"/>\n",
              "    <path d=\"M18.56 5.44l.94 2.06.94-2.06 2.06-.94-2.06-.94-.94-2.06-.94 2.06-2.06.94zm-11 1L8.5 8.5l.94-2.06 2.06-.94-2.06-.94L8.5 2.5l-.94 2.06-2.06.94zm10 10l.94 2.06.94-2.06 2.06-.94-2.06-.94-.94-2.06-.94 2.06-2.06.94z\"/><path d=\"M17.41 7.96l-1.37-1.37c-.4-.4-.92-.59-1.43-.59-.52 0-1.04.2-1.43.59L10.3 9.45l-7.72 7.72c-.78.78-.78 2.05 0 2.83L4 21.41c.39.39.9.59 1.41.59.51 0 1.02-.2 1.41-.59l7.78-7.78 2.81-2.81c.8-.78.8-2.07 0-2.86zM5.41 20L4 18.59l7.72-7.72 1.47 1.35L5.41 20z\"/>\n",
              "  </svg>\n",
              "      </button>\n",
              "      \n",
              "  <style>\n",
              "    .colab-df-container {\n",
              "      display:flex;\n",
              "      flex-wrap:wrap;\n",
              "      gap: 12px;\n",
              "    }\n",
              "\n",
              "    .colab-df-convert {\n",
              "      background-color: #E8F0FE;\n",
              "      border: none;\n",
              "      border-radius: 50%;\n",
              "      cursor: pointer;\n",
              "      display: none;\n",
              "      fill: #1967D2;\n",
              "      height: 32px;\n",
              "      padding: 0 0 0 0;\n",
              "      width: 32px;\n",
              "    }\n",
              "\n",
              "    .colab-df-convert:hover {\n",
              "      background-color: #E2EBFA;\n",
              "      box-shadow: 0px 1px 2px rgba(60, 64, 67, 0.3), 0px 1px 3px 1px rgba(60, 64, 67, 0.15);\n",
              "      fill: #174EA6;\n",
              "    }\n",
              "\n",
              "    [theme=dark] .colab-df-convert {\n",
              "      background-color: #3B4455;\n",
              "      fill: #D2E3FC;\n",
              "    }\n",
              "\n",
              "    [theme=dark] .colab-df-convert:hover {\n",
              "      background-color: #434B5C;\n",
              "      box-shadow: 0px 1px 3px 1px rgba(0, 0, 0, 0.15);\n",
              "      filter: drop-shadow(0px 1px 2px rgba(0, 0, 0, 0.3));\n",
              "      fill: #FFFFFF;\n",
              "    }\n",
              "  </style>\n",
              "\n",
              "      <script>\n",
              "        const buttonEl =\n",
              "          document.querySelector('#df-bd6c378b-2d39-4ada-a009-3a4185d63594 button.colab-df-convert');\n",
              "        buttonEl.style.display =\n",
              "          google.colab.kernel.accessAllowed ? 'block' : 'none';\n",
              "\n",
              "        async function convertToInteractive(key) {\n",
              "          const element = document.querySelector('#df-bd6c378b-2d39-4ada-a009-3a4185d63594');\n",
              "          const dataTable =\n",
              "            await google.colab.kernel.invokeFunction('convertToInteractive',\n",
              "                                                     [key], {});\n",
              "          if (!dataTable) return;\n",
              "\n",
              "          const docLinkHtml = 'Like what you see? Visit the ' +\n",
              "            '<a target=\"_blank\" href=https://colab.research.google.com/notebooks/data_table.ipynb>data table notebook</a>'\n",
              "            + ' to learn more about interactive tables.';\n",
              "          element.innerHTML = '';\n",
              "          dataTable['output_type'] = 'display_data';\n",
              "          await google.colab.output.renderOutput(dataTable, element);\n",
              "          const docLink = document.createElement('div');\n",
              "          docLink.innerHTML = docLinkHtml;\n",
              "          element.appendChild(docLink);\n",
              "        }\n",
              "      </script>\n",
              "    </div>\n",
              "  </div>\n",
              "  "
            ]
          },
          "metadata": {},
          "execution_count": 39
        }
      ]
    },
    {
      "cell_type": "markdown",
      "source": [
        "We basically get the same result. The r-squared value of median income increased to 11%, which tells us that more of its information (variability) is present in the average rooms feature, which seems logical (A higher median income neighborhood doesn't necessarily mean the houses will have more bedrooms, but will most likely have more rooms in total).\n",
        "Whats the takeaway? Reducing the collinearity of a model so the feature variable coefficients represent closely their actual weight (influence) may, and often does, reduce the models ability to explain (account for the variability of) the target. If the purpose of the model is to predict the target as accurately as possible, you may elect to keep all the feature variables to capture the most variability of the target. If you want to know what the fundemental driving forces are and by how much they influence the target, reducing the collinearity of the model to find those fundemental features would be more important than achieving the highest accuracy."
      ],
      "metadata": {
        "id": "hkBpLlnc3fC2"
      }
    },
    {
      "cell_type": "markdown",
      "source": [],
      "metadata": {
        "id": "aQN14PRU6uJe"
      }
    }
  ]
}